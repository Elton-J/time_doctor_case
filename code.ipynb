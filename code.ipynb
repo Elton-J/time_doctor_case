{
 "cells": [
  {
   "cell_type": "code",
   "execution_count": 241,
   "metadata": {},
   "outputs": [],
   "source": [
    "import pandas as pd"
   ]
  },
  {
   "cell_type": "markdown",
   "metadata": {},
   "source": [
    "## Ideias\n",
    "\n",
    "1. Duracao das musicas (mais ou menos longas)\n",
    "2. artistas / genero mais ouvido\n",
    "3. Semana / fim de semana / dias\n",
    "4. Filter mais de 1 min\n",
    "5. diversidade (de artistas e generos - qtd distintos)"
   ]
  },
  {
   "cell_type": "code",
   "execution_count": 242,
   "metadata": {},
   "outputs": [
    {
     "name": "stdout",
     "output_type": "stream",
     "text": [
      "(10000, 4)\n",
      "(10000, 4)\n",
      "(10000, 4)\n",
      "(2122, 4)\n"
     ]
    },
    {
     "data": {
      "text/html": [
       "<div>\n",
       "<style scoped>\n",
       "    .dataframe tbody tr th:only-of-type {\n",
       "        vertical-align: middle;\n",
       "    }\n",
       "\n",
       "    .dataframe tbody tr th {\n",
       "        vertical-align: top;\n",
       "    }\n",
       "\n",
       "    .dataframe thead th {\n",
       "        text-align: right;\n",
       "    }\n",
       "</style>\n",
       "<table border=\"1\" class=\"dataframe\">\n",
       "  <thead>\n",
       "    <tr style=\"text-align: right;\">\n",
       "      <th></th>\n",
       "      <th>endTime</th>\n",
       "      <th>artistName</th>\n",
       "      <th>trackName</th>\n",
       "      <th>msPlayed</th>\n",
       "    </tr>\n",
       "  </thead>\n",
       "  <tbody>\n",
       "    <tr>\n",
       "      <th>0</th>\n",
       "      <td>2023-09-24 02:18</td>\n",
       "      <td>Days Of The New</td>\n",
       "      <td>Flight Response</td>\n",
       "      <td>1358</td>\n",
       "    </tr>\n",
       "    <tr>\n",
       "      <th>1</th>\n",
       "      <td>2023-09-24 02:18</td>\n",
       "      <td>Charles Givings</td>\n",
       "      <td>Easy (LIke Sunday Morning)</td>\n",
       "      <td>2309</td>\n",
       "    </tr>\n",
       "    <tr>\n",
       "      <th>2</th>\n",
       "      <td>2023-09-24 02:18</td>\n",
       "      <td>Iron Maiden</td>\n",
       "      <td>Dance of Death - 2015 Remaster</td>\n",
       "      <td>1942</td>\n",
       "    </tr>\n",
       "    <tr>\n",
       "      <th>3</th>\n",
       "      <td>2023-09-24 02:21</td>\n",
       "      <td>Ocio</td>\n",
       "      <td>Surprise, Surprise</td>\n",
       "      <td>225306</td>\n",
       "    </tr>\n",
       "    <tr>\n",
       "      <th>4</th>\n",
       "      <td>2023-09-24 02:26</td>\n",
       "      <td>O Rappa</td>\n",
       "      <td>Mar de gente</td>\n",
       "      <td>254404</td>\n",
       "    </tr>\n",
       "    <tr>\n",
       "      <th>...</th>\n",
       "      <td>...</td>\n",
       "      <td>...</td>\n",
       "      <td>...</td>\n",
       "      <td>...</td>\n",
       "    </tr>\n",
       "    <tr>\n",
       "      <th>9995</th>\n",
       "      <td>2023-02-13 19:27</td>\n",
       "      <td>Bezerra Da Silva</td>\n",
       "      <td>Asa à Cobra</td>\n",
       "      <td>10261</td>\n",
       "    </tr>\n",
       "    <tr>\n",
       "      <th>9996</th>\n",
       "      <td>2023-02-13 19:30</td>\n",
       "      <td>Hole</td>\n",
       "      <td>Violet</td>\n",
       "      <td>204933</td>\n",
       "    </tr>\n",
       "    <tr>\n",
       "      <th>9997</th>\n",
       "      <td>2023-02-13 19:33</td>\n",
       "      <td>Green Day</td>\n",
       "      <td>American Idiot</td>\n",
       "      <td>176346</td>\n",
       "    </tr>\n",
       "    <tr>\n",
       "      <th>9998</th>\n",
       "      <td>2023-02-13 19:36</td>\n",
       "      <td>Pearl Jam</td>\n",
       "      <td>I Am Mine</td>\n",
       "      <td>622</td>\n",
       "    </tr>\n",
       "    <tr>\n",
       "      <th>9999</th>\n",
       "      <td>2023-02-13 19:36</td>\n",
       "      <td>Hootie &amp; The Blowfish</td>\n",
       "      <td>Only Wanna Be With You</td>\n",
       "      <td>0</td>\n",
       "    </tr>\n",
       "  </tbody>\n",
       "</table>\n",
       "<p>32122 rows × 4 columns</p>\n",
       "</div>"
      ],
      "text/plain": [
       "               endTime             artistName                       trackName  \\\n",
       "0     2023-09-24 02:18        Days Of The New                 Flight Response   \n",
       "1     2023-09-24 02:18        Charles Givings      Easy (LIke Sunday Morning)   \n",
       "2     2023-09-24 02:18            Iron Maiden  Dance of Death - 2015 Remaster   \n",
       "3     2023-09-24 02:21                   Ocio              Surprise, Surprise   \n",
       "4     2023-09-24 02:26                O Rappa                    Mar de gente   \n",
       "...                ...                    ...                             ...   \n",
       "9995  2023-02-13 19:27       Bezerra Da Silva                     Asa à Cobra   \n",
       "9996  2023-02-13 19:30                   Hole                          Violet   \n",
       "9997  2023-02-13 19:33              Green Day                  American Idiot   \n",
       "9998  2023-02-13 19:36              Pearl Jam                       I Am Mine   \n",
       "9999  2023-02-13 19:36  Hootie & The Blowfish          Only Wanna Be With You   \n",
       "\n",
       "      msPlayed  \n",
       "0         1358  \n",
       "1         2309  \n",
       "2         1942  \n",
       "3       225306  \n",
       "4       254404  \n",
       "...        ...  \n",
       "9995     10261  \n",
       "9996    204933  \n",
       "9997    176346  \n",
       "9998       622  \n",
       "9999         0  \n",
       "\n",
       "[32122 rows x 4 columns]"
      ]
     },
     "execution_count": 242,
     "metadata": {},
     "output_type": "execute_result"
    }
   ],
   "source": [
    "df = pd.DataFrame()\n",
    "\n",
    "for i in range(4):\n",
    "    temp = pd.read_json(f'./Spotify/StreamingHistory{i}.json')\n",
    "\n",
    "    print(temp.shape)\n",
    "\n",
    "    df = pd.concat([temp, df], axis=0)\n",
    "    \n",
    "\n",
    "df"
   ]
  },
  {
   "cell_type": "code",
   "execution_count": 243,
   "metadata": {},
   "outputs": [],
   "source": [
    "from datetime import datetime\n",
    "import numpy as np"
   ]
  },
  {
   "cell_type": "code",
   "execution_count": 244,
   "metadata": {},
   "outputs": [
    {
     "data": {
      "text/html": [
       "<div>\n",
       "<style scoped>\n",
       "    .dataframe tbody tr th:only-of-type {\n",
       "        vertical-align: middle;\n",
       "    }\n",
       "\n",
       "    .dataframe tbody tr th {\n",
       "        vertical-align: top;\n",
       "    }\n",
       "\n",
       "    .dataframe thead th {\n",
       "        text-align: right;\n",
       "    }\n",
       "</style>\n",
       "<table border=\"1\" class=\"dataframe\">\n",
       "  <thead>\n",
       "    <tr style=\"text-align: right;\">\n",
       "      <th></th>\n",
       "      <th>endTime</th>\n",
       "      <th>artistName</th>\n",
       "      <th>trackName</th>\n",
       "      <th>msPlayed</th>\n",
       "      <th>dia_semana</th>\n",
       "      <th>num_dia_semana</th>\n",
       "      <th>hora</th>\n",
       "      <th>tipo_dia</th>\n",
       "      <th>duracao_min</th>\n",
       "    </tr>\n",
       "  </thead>\n",
       "  <tbody>\n",
       "    <tr>\n",
       "      <th>0</th>\n",
       "      <td>2023-09-24 02:18:00</td>\n",
       "      <td>Days Of The New</td>\n",
       "      <td>Flight Response</td>\n",
       "      <td>1358</td>\n",
       "      <td>Domingo</td>\n",
       "      <td>6</td>\n",
       "      <td>2</td>\n",
       "      <td>FDS</td>\n",
       "      <td>0.022633</td>\n",
       "    </tr>\n",
       "    <tr>\n",
       "      <th>1</th>\n",
       "      <td>2023-09-24 02:18:00</td>\n",
       "      <td>Charles Givings</td>\n",
       "      <td>Easy (LIke Sunday Morning)</td>\n",
       "      <td>2309</td>\n",
       "      <td>Domingo</td>\n",
       "      <td>6</td>\n",
       "      <td>2</td>\n",
       "      <td>FDS</td>\n",
       "      <td>0.038483</td>\n",
       "    </tr>\n",
       "    <tr>\n",
       "      <th>2</th>\n",
       "      <td>2023-09-24 02:18:00</td>\n",
       "      <td>Iron Maiden</td>\n",
       "      <td>Dance of Death - 2015 Remaster</td>\n",
       "      <td>1942</td>\n",
       "      <td>Domingo</td>\n",
       "      <td>6</td>\n",
       "      <td>2</td>\n",
       "      <td>FDS</td>\n",
       "      <td>0.032367</td>\n",
       "    </tr>\n",
       "    <tr>\n",
       "      <th>3</th>\n",
       "      <td>2023-09-24 02:21:00</td>\n",
       "      <td>Ocio</td>\n",
       "      <td>Surprise, Surprise</td>\n",
       "      <td>225306</td>\n",
       "      <td>Domingo</td>\n",
       "      <td>6</td>\n",
       "      <td>2</td>\n",
       "      <td>FDS</td>\n",
       "      <td>3.755100</td>\n",
       "    </tr>\n",
       "    <tr>\n",
       "      <th>4</th>\n",
       "      <td>2023-09-24 02:26:00</td>\n",
       "      <td>O Rappa</td>\n",
       "      <td>Mar de gente</td>\n",
       "      <td>254404</td>\n",
       "      <td>Domingo</td>\n",
       "      <td>6</td>\n",
       "      <td>2</td>\n",
       "      <td>FDS</td>\n",
       "      <td>4.240067</td>\n",
       "    </tr>\n",
       "    <tr>\n",
       "      <th>...</th>\n",
       "      <td>...</td>\n",
       "      <td>...</td>\n",
       "      <td>...</td>\n",
       "      <td>...</td>\n",
       "      <td>...</td>\n",
       "      <td>...</td>\n",
       "      <td>...</td>\n",
       "      <td>...</td>\n",
       "      <td>...</td>\n",
       "    </tr>\n",
       "    <tr>\n",
       "      <th>9995</th>\n",
       "      <td>2023-02-13 19:27:00</td>\n",
       "      <td>Bezerra Da Silva</td>\n",
       "      <td>Asa à Cobra</td>\n",
       "      <td>10261</td>\n",
       "      <td>Segunda-feira</td>\n",
       "      <td>0</td>\n",
       "      <td>19</td>\n",
       "      <td>CLT</td>\n",
       "      <td>0.171017</td>\n",
       "    </tr>\n",
       "    <tr>\n",
       "      <th>9996</th>\n",
       "      <td>2023-02-13 19:30:00</td>\n",
       "      <td>Hole</td>\n",
       "      <td>Violet</td>\n",
       "      <td>204933</td>\n",
       "      <td>Segunda-feira</td>\n",
       "      <td>0</td>\n",
       "      <td>19</td>\n",
       "      <td>CLT</td>\n",
       "      <td>3.415550</td>\n",
       "    </tr>\n",
       "    <tr>\n",
       "      <th>9997</th>\n",
       "      <td>2023-02-13 19:33:00</td>\n",
       "      <td>Green Day</td>\n",
       "      <td>American Idiot</td>\n",
       "      <td>176346</td>\n",
       "      <td>Segunda-feira</td>\n",
       "      <td>0</td>\n",
       "      <td>19</td>\n",
       "      <td>CLT</td>\n",
       "      <td>2.939100</td>\n",
       "    </tr>\n",
       "    <tr>\n",
       "      <th>9998</th>\n",
       "      <td>2023-02-13 19:36:00</td>\n",
       "      <td>Pearl Jam</td>\n",
       "      <td>I Am Mine</td>\n",
       "      <td>622</td>\n",
       "      <td>Segunda-feira</td>\n",
       "      <td>0</td>\n",
       "      <td>19</td>\n",
       "      <td>CLT</td>\n",
       "      <td>0.010367</td>\n",
       "    </tr>\n",
       "    <tr>\n",
       "      <th>9999</th>\n",
       "      <td>2023-02-13 19:36:00</td>\n",
       "      <td>Hootie &amp; The Blowfish</td>\n",
       "      <td>Only Wanna Be With You</td>\n",
       "      <td>0</td>\n",
       "      <td>Segunda-feira</td>\n",
       "      <td>0</td>\n",
       "      <td>19</td>\n",
       "      <td>CLT</td>\n",
       "      <td>0.000000</td>\n",
       "    </tr>\n",
       "  </tbody>\n",
       "</table>\n",
       "<p>32122 rows × 9 columns</p>\n",
       "</div>"
      ],
      "text/plain": [
       "                 endTime             artistName  \\\n",
       "0    2023-09-24 02:18:00        Days Of The New   \n",
       "1    2023-09-24 02:18:00        Charles Givings   \n",
       "2    2023-09-24 02:18:00            Iron Maiden   \n",
       "3    2023-09-24 02:21:00                   Ocio   \n",
       "4    2023-09-24 02:26:00                O Rappa   \n",
       "...                  ...                    ...   \n",
       "9995 2023-02-13 19:27:00       Bezerra Da Silva   \n",
       "9996 2023-02-13 19:30:00                   Hole   \n",
       "9997 2023-02-13 19:33:00              Green Day   \n",
       "9998 2023-02-13 19:36:00              Pearl Jam   \n",
       "9999 2023-02-13 19:36:00  Hootie & The Blowfish   \n",
       "\n",
       "                           trackName  msPlayed     dia_semana  num_dia_semana  \\\n",
       "0                    Flight Response      1358        Domingo               6   \n",
       "1         Easy (LIke Sunday Morning)      2309        Domingo               6   \n",
       "2     Dance of Death - 2015 Remaster      1942        Domingo               6   \n",
       "3                 Surprise, Surprise    225306        Domingo               6   \n",
       "4                       Mar de gente    254404        Domingo               6   \n",
       "...                              ...       ...            ...             ...   \n",
       "9995                     Asa à Cobra     10261  Segunda-feira               0   \n",
       "9996                          Violet    204933  Segunda-feira               0   \n",
       "9997                  American Idiot    176346  Segunda-feira               0   \n",
       "9998                       I Am Mine       622  Segunda-feira               0   \n",
       "9999          Only Wanna Be With You         0  Segunda-feira               0   \n",
       "\n",
       "      hora tipo_dia  duracao_min  \n",
       "0        2      FDS     0.022633  \n",
       "1        2      FDS     0.038483  \n",
       "2        2      FDS     0.032367  \n",
       "3        2      FDS     3.755100  \n",
       "4        2      FDS     4.240067  \n",
       "...    ...      ...          ...  \n",
       "9995    19      CLT     0.171017  \n",
       "9996    19      CLT     3.415550  \n",
       "9997    19      CLT     2.939100  \n",
       "9998    19      CLT     0.010367  \n",
       "9999    19      CLT     0.000000  \n",
       "\n",
       "[32122 rows x 9 columns]"
      ]
     },
     "execution_count": 244,
     "metadata": {},
     "output_type": "execute_result"
    }
   ],
   "source": [
    "df['endTime'] = pd.to_datetime(df.endTime)\n",
    "\n",
    "df['dia_semana'] = df.endTime.dt.day_name(locale='pt_BR.utf8')\n",
    "\n",
    "df['num_dia_semana'] = df.endTime.dt.weekday\n",
    "\n",
    "df['hora'] = df.endTime.dt.hour\n",
    "\n",
    "df['tipo_dia'] = df.num_dia_semana.apply(lambda x: 'FDS' if x >= 5 else 'CLT' )\n",
    "\n",
    "df['duracao_min'] = df.msPlayed / 60000\n",
    "\n",
    "\n",
    "df"
   ]
  },
  {
   "cell_type": "code",
   "execution_count": 245,
   "metadata": {},
   "outputs": [
    {
     "data": {
      "text/html": [
       "<div>\n",
       "<style scoped>\n",
       "    .dataframe tbody tr th:only-of-type {\n",
       "        vertical-align: middle;\n",
       "    }\n",
       "\n",
       "    .dataframe tbody tr th {\n",
       "        vertical-align: top;\n",
       "    }\n",
       "\n",
       "    .dataframe thead th {\n",
       "        text-align: right;\n",
       "    }\n",
       "</style>\n",
       "<table border=\"1\" class=\"dataframe\">\n",
       "  <thead>\n",
       "    <tr style=\"text-align: right;\">\n",
       "      <th></th>\n",
       "      <th>endTime</th>\n",
       "      <th>artistName</th>\n",
       "      <th>trackName</th>\n",
       "      <th>msPlayed</th>\n",
       "      <th>dia_semana</th>\n",
       "      <th>num_dia_semana</th>\n",
       "      <th>hora</th>\n",
       "      <th>tipo_dia</th>\n",
       "      <th>duracao_min</th>\n",
       "    </tr>\n",
       "  </thead>\n",
       "  <tbody>\n",
       "    <tr>\n",
       "      <th>3</th>\n",
       "      <td>2023-09-24 02:21:00</td>\n",
       "      <td>Ocio</td>\n",
       "      <td>Surprise, Surprise</td>\n",
       "      <td>225306</td>\n",
       "      <td>Domingo</td>\n",
       "      <td>6</td>\n",
       "      <td>2</td>\n",
       "      <td>FDS</td>\n",
       "      <td>3.755100</td>\n",
       "    </tr>\n",
       "    <tr>\n",
       "      <th>4</th>\n",
       "      <td>2023-09-24 02:26:00</td>\n",
       "      <td>O Rappa</td>\n",
       "      <td>Mar de gente</td>\n",
       "      <td>254404</td>\n",
       "      <td>Domingo</td>\n",
       "      <td>6</td>\n",
       "      <td>2</td>\n",
       "      <td>FDS</td>\n",
       "      <td>4.240067</td>\n",
       "    </tr>\n",
       "    <tr>\n",
       "      <th>6</th>\n",
       "      <td>2023-09-24 02:28:00</td>\n",
       "      <td>Alice In Chains</td>\n",
       "      <td>I Know Somethin (Bout You)</td>\n",
       "      <td>131626</td>\n",
       "      <td>Domingo</td>\n",
       "      <td>6</td>\n",
       "      <td>2</td>\n",
       "      <td>FDS</td>\n",
       "      <td>2.193767</td>\n",
       "    </tr>\n",
       "    <tr>\n",
       "      <th>7</th>\n",
       "      <td>2023-09-24 02:31:00</td>\n",
       "      <td>Grupo Revelação</td>\n",
       "      <td>Grades do Coração</td>\n",
       "      <td>204266</td>\n",
       "      <td>Domingo</td>\n",
       "      <td>6</td>\n",
       "      <td>2</td>\n",
       "      <td>FDS</td>\n",
       "      <td>3.404433</td>\n",
       "    </tr>\n",
       "    <tr>\n",
       "      <th>8</th>\n",
       "      <td>2023-09-24 02:45:00</td>\n",
       "      <td>Amado Batista</td>\n",
       "      <td>Minha diversão</td>\n",
       "      <td>34504</td>\n",
       "      <td>Domingo</td>\n",
       "      <td>6</td>\n",
       "      <td>2</td>\n",
       "      <td>FDS</td>\n",
       "      <td>0.575067</td>\n",
       "    </tr>\n",
       "    <tr>\n",
       "      <th>...</th>\n",
       "      <td>...</td>\n",
       "      <td>...</td>\n",
       "      <td>...</td>\n",
       "      <td>...</td>\n",
       "      <td>...</td>\n",
       "      <td>...</td>\n",
       "      <td>...</td>\n",
       "      <td>...</td>\n",
       "      <td>...</td>\n",
       "    </tr>\n",
       "    <tr>\n",
       "      <th>9990</th>\n",
       "      <td>2023-02-13 19:23:00</td>\n",
       "      <td>Joy Crookes</td>\n",
       "      <td>Feet Don't Fail Me Now</td>\n",
       "      <td>198800</td>\n",
       "      <td>Segunda-feira</td>\n",
       "      <td>0</td>\n",
       "      <td>19</td>\n",
       "      <td>CLT</td>\n",
       "      <td>3.313333</td>\n",
       "    </tr>\n",
       "    <tr>\n",
       "      <th>9992</th>\n",
       "      <td>2023-02-13 19:24:00</td>\n",
       "      <td>Ocio</td>\n",
       "      <td>Oh Dear</td>\n",
       "      <td>40129</td>\n",
       "      <td>Segunda-feira</td>\n",
       "      <td>0</td>\n",
       "      <td>19</td>\n",
       "      <td>CLT</td>\n",
       "      <td>0.668817</td>\n",
       "    </tr>\n",
       "    <tr>\n",
       "      <th>9994</th>\n",
       "      <td>2023-02-13 19:27:00</td>\n",
       "      <td>Marcelo D2</td>\n",
       "      <td>Desabafo / Deixa Eu Dizer</td>\n",
       "      <td>175666</td>\n",
       "      <td>Segunda-feira</td>\n",
       "      <td>0</td>\n",
       "      <td>19</td>\n",
       "      <td>CLT</td>\n",
       "      <td>2.927767</td>\n",
       "    </tr>\n",
       "    <tr>\n",
       "      <th>9996</th>\n",
       "      <td>2023-02-13 19:30:00</td>\n",
       "      <td>Hole</td>\n",
       "      <td>Violet</td>\n",
       "      <td>204933</td>\n",
       "      <td>Segunda-feira</td>\n",
       "      <td>0</td>\n",
       "      <td>19</td>\n",
       "      <td>CLT</td>\n",
       "      <td>3.415550</td>\n",
       "    </tr>\n",
       "    <tr>\n",
       "      <th>9997</th>\n",
       "      <td>2023-02-13 19:33:00</td>\n",
       "      <td>Green Day</td>\n",
       "      <td>American Idiot</td>\n",
       "      <td>176346</td>\n",
       "      <td>Segunda-feira</td>\n",
       "      <td>0</td>\n",
       "      <td>19</td>\n",
       "      <td>CLT</td>\n",
       "      <td>2.939100</td>\n",
       "    </tr>\n",
       "  </tbody>\n",
       "</table>\n",
       "<p>14804 rows × 9 columns</p>\n",
       "</div>"
      ],
      "text/plain": [
       "                 endTime       artistName                   trackName  \\\n",
       "3    2023-09-24 02:21:00             Ocio          Surprise, Surprise   \n",
       "4    2023-09-24 02:26:00          O Rappa                Mar de gente   \n",
       "6    2023-09-24 02:28:00  Alice In Chains  I Know Somethin (Bout You)   \n",
       "7    2023-09-24 02:31:00  Grupo Revelação           Grades do Coração   \n",
       "8    2023-09-24 02:45:00    Amado Batista              Minha diversão   \n",
       "...                  ...              ...                         ...   \n",
       "9990 2023-02-13 19:23:00      Joy Crookes      Feet Don't Fail Me Now   \n",
       "9992 2023-02-13 19:24:00             Ocio                     Oh Dear   \n",
       "9994 2023-02-13 19:27:00       Marcelo D2   Desabafo / Deixa Eu Dizer   \n",
       "9996 2023-02-13 19:30:00             Hole                      Violet   \n",
       "9997 2023-02-13 19:33:00        Green Day              American Idiot   \n",
       "\n",
       "      msPlayed     dia_semana  num_dia_semana  hora tipo_dia  duracao_min  \n",
       "3       225306        Domingo               6     2      FDS     3.755100  \n",
       "4       254404        Domingo               6     2      FDS     4.240067  \n",
       "6       131626        Domingo               6     2      FDS     2.193767  \n",
       "7       204266        Domingo               6     2      FDS     3.404433  \n",
       "8        34504        Domingo               6     2      FDS     0.575067  \n",
       "...        ...            ...             ...   ...      ...          ...  \n",
       "9990    198800  Segunda-feira               0    19      CLT     3.313333  \n",
       "9992     40129  Segunda-feira               0    19      CLT     0.668817  \n",
       "9994    175666  Segunda-feira               0    19      CLT     2.927767  \n",
       "9996    204933  Segunda-feira               0    19      CLT     3.415550  \n",
       "9997    176346  Segunda-feira               0    19      CLT     2.939100  \n",
       "\n",
       "[14804 rows x 9 columns]"
      ]
     },
     "execution_count": 245,
     "metadata": {},
     "output_type": "execute_result"
    }
   ],
   "source": [
    "df_util = df.loc[df.duracao_min >= 0.25]\n",
    "\n",
    "df_util"
   ]
  },
  {
   "cell_type": "code",
   "execution_count": 246,
   "metadata": {},
   "outputs": [
    {
     "data": {
      "text/plain": [
       "35.33433494212963"
      ]
     },
     "execution_count": 246,
     "metadata": {},
     "output_type": "execute_result"
    }
   ],
   "source": [
    "df_util.duracao_min.sum() / 60 / 24"
   ]
  },
  {
   "cell_type": "code",
   "execution_count": 263,
   "metadata": {},
   "outputs": [],
   "source": [
    "import plotly.express as px\n",
    "import plotly.graph_objects as go"
   ]
  },
  {
   "cell_type": "code",
   "execution_count": 248,
   "metadata": {},
   "outputs": [
    {
     "data": {
      "text/plain": [
       "3.437006371025849"
      ]
     },
     "execution_count": 248,
     "metadata": {},
     "output_type": "execute_result"
    }
   ],
   "source": [
    "df_util.duracao_min.mean()"
   ]
  },
  {
   "cell_type": "code",
   "execution_count": 252,
   "metadata": {},
   "outputs": [
    {
     "data": {
      "text/html": [
       "<div>\n",
       "<style scoped>\n",
       "    .dataframe tbody tr th:only-of-type {\n",
       "        vertical-align: middle;\n",
       "    }\n",
       "\n",
       "    .dataframe tbody tr th {\n",
       "        vertical-align: top;\n",
       "    }\n",
       "\n",
       "    .dataframe thead th {\n",
       "        text-align: right;\n",
       "    }\n",
       "</style>\n",
       "<table border=\"1\" class=\"dataframe\">\n",
       "  <thead>\n",
       "    <tr style=\"text-align: right;\">\n",
       "      <th></th>\n",
       "      <th>artistName</th>\n",
       "      <th>n</th>\n",
       "    </tr>\n",
       "  </thead>\n",
       "  <tbody>\n",
       "    <tr>\n",
       "      <th>639</th>\n",
       "      <td>Pearl Jam</td>\n",
       "      <td>3302</td>\n",
       "    </tr>\n",
       "    <tr>\n",
       "      <th>666</th>\n",
       "      <td>Racionais MC's</td>\n",
       "      <td>841</td>\n",
       "    </tr>\n",
       "    <tr>\n",
       "      <th>33</th>\n",
       "      <td>Alice In Chains</td>\n",
       "      <td>530</td>\n",
       "    </tr>\n",
       "    <tr>\n",
       "      <th>2</th>\n",
       "      <td>2Pac</td>\n",
       "      <td>499</td>\n",
       "    </tr>\n",
       "    <tr>\n",
       "      <th>272</th>\n",
       "      <td>Eminem</td>\n",
       "      <td>480</td>\n",
       "    </tr>\n",
       "    <tr>\n",
       "      <th>602</th>\n",
       "      <td>Nirvana</td>\n",
       "      <td>330</td>\n",
       "    </tr>\n",
       "    <tr>\n",
       "      <th>815</th>\n",
       "      <td>The White Buffalo</td>\n",
       "      <td>323</td>\n",
       "    </tr>\n",
       "    <tr>\n",
       "      <th>761</th>\n",
       "      <td>Temple Of The Dog</td>\n",
       "      <td>285</td>\n",
       "    </tr>\n",
       "    <tr>\n",
       "      <th>890</th>\n",
       "      <td>Zakk Wylde</td>\n",
       "      <td>249</td>\n",
       "    </tr>\n",
       "    <tr>\n",
       "      <th>379</th>\n",
       "      <td>Jerry Cantrell</td>\n",
       "      <td>243</td>\n",
       "    </tr>\n",
       "    <tr>\n",
       "      <th>84</th>\n",
       "      <td>Black Label Society</td>\n",
       "      <td>238</td>\n",
       "    </tr>\n",
       "    <tr>\n",
       "      <th>51</th>\n",
       "      <td>Audioslave</td>\n",
       "      <td>230</td>\n",
       "    </tr>\n",
       "    <tr>\n",
       "      <th>889</th>\n",
       "      <td>Zaia</td>\n",
       "      <td>207</td>\n",
       "    </tr>\n",
       "    <tr>\n",
       "      <th>655</th>\n",
       "      <td>Pride &amp; Glory</td>\n",
       "      <td>186</td>\n",
       "    </tr>\n",
       "    <tr>\n",
       "      <th>5</th>\n",
       "      <td>50 Cent</td>\n",
       "      <td>179</td>\n",
       "    </tr>\n",
       "    <tr>\n",
       "      <th>661</th>\n",
       "      <td>Queens of the Stone Age</td>\n",
       "      <td>177</td>\n",
       "    </tr>\n",
       "    <tr>\n",
       "      <th>417</th>\n",
       "      <td>Kendrick Lamar</td>\n",
       "      <td>158</td>\n",
       "    </tr>\n",
       "    <tr>\n",
       "      <th>496</th>\n",
       "      <td>Mad Season</td>\n",
       "      <td>149</td>\n",
       "    </tr>\n",
       "    <tr>\n",
       "      <th>743</th>\n",
       "      <td>Soundgarden</td>\n",
       "      <td>143</td>\n",
       "    </tr>\n",
       "    <tr>\n",
       "      <th>220</th>\n",
       "      <td>Days Of The New</td>\n",
       "      <td>143</td>\n",
       "    </tr>\n",
       "    <tr>\n",
       "      <th>749</th>\n",
       "      <td>Stone Temple Pilots</td>\n",
       "      <td>121</td>\n",
       "    </tr>\n",
       "    <tr>\n",
       "      <th>435</th>\n",
       "      <td>Legião Urbana</td>\n",
       "      <td>120</td>\n",
       "    </tr>\n",
       "    <tr>\n",
       "      <th>611</th>\n",
       "      <td>Ocio</td>\n",
       "      <td>105</td>\n",
       "    </tr>\n",
       "    <tr>\n",
       "      <th>247</th>\n",
       "      <td>Dr. Dre</td>\n",
       "      <td>105</td>\n",
       "    </tr>\n",
       "    <tr>\n",
       "      <th>445</th>\n",
       "      <td>Lil Wayne</td>\n",
       "      <td>100</td>\n",
       "    </tr>\n",
       "    <tr>\n",
       "      <th>607</th>\n",
       "      <td>O Rappa</td>\n",
       "      <td>94</td>\n",
       "    </tr>\n",
       "    <tr>\n",
       "      <th>131</th>\n",
       "      <td>Charlie Brown Jr.</td>\n",
       "      <td>87</td>\n",
       "    </tr>\n",
       "    <tr>\n",
       "      <th>145</th>\n",
       "      <td>Chris Cornell</td>\n",
       "      <td>75</td>\n",
       "    </tr>\n",
       "    <tr>\n",
       "      <th>226</th>\n",
       "      <td>Desiigner</td>\n",
       "      <td>74</td>\n",
       "    </tr>\n",
       "    <tr>\n",
       "      <th>360</th>\n",
       "      <td>JAY-Z</td>\n",
       "      <td>72</td>\n",
       "    </tr>\n",
       "  </tbody>\n",
       "</table>\n",
       "</div>"
      ],
      "text/plain": [
       "                  artistName     n\n",
       "639                Pearl Jam  3302\n",
       "666           Racionais MC's   841\n",
       "33           Alice In Chains   530\n",
       "2                       2Pac   499\n",
       "272                   Eminem   480\n",
       "602                  Nirvana   330\n",
       "815        The White Buffalo   323\n",
       "761        Temple Of The Dog   285\n",
       "890               Zakk Wylde   249\n",
       "379           Jerry Cantrell   243\n",
       "84       Black Label Society   238\n",
       "51                Audioslave   230\n",
       "889                     Zaia   207\n",
       "655            Pride & Glory   186\n",
       "5                    50 Cent   179\n",
       "661  Queens of the Stone Age   177\n",
       "417           Kendrick Lamar   158\n",
       "496               Mad Season   149\n",
       "743              Soundgarden   143\n",
       "220          Days Of The New   143\n",
       "749      Stone Temple Pilots   121\n",
       "435            Legião Urbana   120\n",
       "611                     Ocio   105\n",
       "247                  Dr. Dre   105\n",
       "445                Lil Wayne   100\n",
       "607                  O Rappa    94\n",
       "131        Charlie Brown Jr.    87\n",
       "145            Chris Cornell    75\n",
       "226                Desiigner    74\n",
       "360                    JAY-Z    72"
      ]
     },
     "execution_count": 252,
     "metadata": {},
     "output_type": "execute_result"
    }
   ],
   "source": [
    "df = df_util. \\\n",
    "    groupby(['artistName']) ['artistName']. \\\n",
    "        count(). \\\n",
    "            reset_index(name = 'n'). \\\n",
    "                sort_values(by='n', ascending=False) \\\n",
    "                    .head(30)\n",
    "\n",
    "df"
   ]
  },
  {
   "cell_type": "code",
   "execution_count": 9,
   "metadata": {},
   "outputs": [
    {
     "data": {
      "text/html": [
       "<div>\n",
       "<style scoped>\n",
       "    .dataframe tbody tr th:only-of-type {\n",
       "        vertical-align: middle;\n",
       "    }\n",
       "\n",
       "    .dataframe tbody tr th {\n",
       "        vertical-align: top;\n",
       "    }\n",
       "\n",
       "    .dataframe thead th {\n",
       "        text-align: right;\n",
       "    }\n",
       "</style>\n",
       "<table border=\"1\" class=\"dataframe\">\n",
       "  <thead>\n",
       "    <tr style=\"text-align: right;\">\n",
       "      <th></th>\n",
       "      <th>trackName</th>\n",
       "      <th>n</th>\n",
       "    </tr>\n",
       "  </thead>\n",
       "  <tbody>\n",
       "    <tr>\n",
       "      <th>135</th>\n",
       "      <td>Ambitionz Az A Ridah</td>\n",
       "      <td>220</td>\n",
       "    </tr>\n",
       "    <tr>\n",
       "      <th>1950</th>\n",
       "      <td>SHADE</td>\n",
       "      <td>202</td>\n",
       "    </tr>\n",
       "    <tr>\n",
       "      <th>111</th>\n",
       "      <td>All Eyez On Me (ft. Big Syke)</td>\n",
       "      <td>165</td>\n",
       "    </tr>\n",
       "    <tr>\n",
       "      <th>957</th>\n",
       "      <td>HUMBLE.</td>\n",
       "      <td>148</td>\n",
       "    </tr>\n",
       "    <tr>\n",
       "      <th>916</th>\n",
       "      <td>Godzilla (feat. Juice WRLD)</td>\n",
       "      <td>147</td>\n",
       "    </tr>\n",
       "    <tr>\n",
       "      <th>...</th>\n",
       "      <td>...</td>\n",
       "      <td>...</td>\n",
       "    </tr>\n",
       "    <tr>\n",
       "      <th>939</th>\n",
       "      <td>Grajauex</td>\n",
       "      <td>29</td>\n",
       "    </tr>\n",
       "    <tr>\n",
       "      <th>1805</th>\n",
       "      <td>Pump It</td>\n",
       "      <td>29</td>\n",
       "    </tr>\n",
       "    <tr>\n",
       "      <th>1167</th>\n",
       "      <td>It Ain't Like That</td>\n",
       "      <td>29</td>\n",
       "    </tr>\n",
       "    <tr>\n",
       "      <th>933</th>\n",
       "      <td>Got Me Wrong - Live at the Majestic Theatre, B...</td>\n",
       "      <td>28</td>\n",
       "    </tr>\n",
       "    <tr>\n",
       "      <th>1389</th>\n",
       "      <td>Mariana Parte Minha</td>\n",
       "      <td>28</td>\n",
       "    </tr>\n",
       "  </tbody>\n",
       "</table>\n",
       "<p>100 rows × 2 columns</p>\n",
       "</div>"
      ],
      "text/plain": [
       "                                              trackName    n\n",
       "135                                Ambitionz Az A Ridah  220\n",
       "1950                                              SHADE  202\n",
       "111                       All Eyez On Me (ft. Big Syke)  165\n",
       "957                                             HUMBLE.  148\n",
       "916                         Godzilla (feat. Juice WRLD)  147\n",
       "...                                                 ...  ...\n",
       "939                                            Grajauex   29\n",
       "1805                                            Pump It   29\n",
       "1167                                 It Ain't Like That   29\n",
       "933   Got Me Wrong - Live at the Majestic Theatre, B...   28\n",
       "1389                                Mariana Parte Minha   28\n",
       "\n",
       "[100 rows x 2 columns]"
      ]
     },
     "execution_count": 9,
     "metadata": {},
     "output_type": "execute_result"
    }
   ],
   "source": [
    "\n",
    "df_util. \\\n",
    "    groupby(['trackName']) ['trackName']. \\\n",
    "        count(). \\\n",
    "            reset_index(name = 'n'). \\\n",
    "                sort_values(by='n', ascending=False) \\\n",
    "                    .head(20)"
   ]
  },
  {
   "cell_type": "code",
   "execution_count": 10,
   "metadata": {},
   "outputs": [
    {
     "data": {
      "text/html": [
       "<div>\n",
       "<style scoped>\n",
       "    .dataframe tbody tr th:only-of-type {\n",
       "        vertical-align: middle;\n",
       "    }\n",
       "\n",
       "    .dataframe tbody tr th {\n",
       "        vertical-align: top;\n",
       "    }\n",
       "\n",
       "    .dataframe thead th {\n",
       "        text-align: right;\n",
       "    }\n",
       "</style>\n",
       "<table border=\"1\" class=\"dataframe\">\n",
       "  <thead>\n",
       "    <tr style=\"text-align: right;\">\n",
       "      <th></th>\n",
       "      <th>dia_semana</th>\n",
       "      <th>n</th>\n",
       "    </tr>\n",
       "  </thead>\n",
       "  <tbody>\n",
       "    <tr>\n",
       "      <th>6</th>\n",
       "      <td>Terã§a-feira</td>\n",
       "      <td>3452</td>\n",
       "    </tr>\n",
       "    <tr>\n",
       "      <th>3</th>\n",
       "      <td>Segunda-feira</td>\n",
       "      <td>2749</td>\n",
       "    </tr>\n",
       "    <tr>\n",
       "      <th>1</th>\n",
       "      <td>Quarta-feira</td>\n",
       "      <td>2219</td>\n",
       "    </tr>\n",
       "    <tr>\n",
       "      <th>2</th>\n",
       "      <td>Quinta-feira</td>\n",
       "      <td>2037</td>\n",
       "    </tr>\n",
       "    <tr>\n",
       "      <th>4</th>\n",
       "      <td>Sexta-feira</td>\n",
       "      <td>1786</td>\n",
       "    </tr>\n",
       "    <tr>\n",
       "      <th>5</th>\n",
       "      <td>Sã¡bado</td>\n",
       "      <td>1288</td>\n",
       "    </tr>\n",
       "    <tr>\n",
       "      <th>0</th>\n",
       "      <td>Domingo</td>\n",
       "      <td>1273</td>\n",
       "    </tr>\n",
       "  </tbody>\n",
       "</table>\n",
       "</div>"
      ],
      "text/plain": [
       "      dia_semana     n\n",
       "6   Terã§a-feira  3452\n",
       "3  Segunda-feira  2749\n",
       "1   Quarta-feira  2219\n",
       "2   Quinta-feira  2037\n",
       "4    Sexta-feira  1786\n",
       "5        Sã¡bado  1288\n",
       "0        Domingo  1273"
      ]
     },
     "execution_count": 10,
     "metadata": {},
     "output_type": "execute_result"
    }
   ],
   "source": [
    "\n",
    "df_util. \\\n",
    "    groupby(['dia_semana']) ['dia_semana']. \\\n",
    "        count(). \\\n",
    "            reset_index(name = 'n'). \\\n",
    "                sort_values(by='n', ascending=False) \\\n",
    "                    .head(100)"
   ]
  },
  {
   "cell_type": "code",
   "execution_count": 11,
   "metadata": {},
   "outputs": [
    {
     "data": {
      "text/html": [
       "<div>\n",
       "<style scoped>\n",
       "    .dataframe tbody tr th:only-of-type {\n",
       "        vertical-align: middle;\n",
       "    }\n",
       "\n",
       "    .dataframe tbody tr th {\n",
       "        vertical-align: top;\n",
       "    }\n",
       "\n",
       "    .dataframe thead th {\n",
       "        text-align: right;\n",
       "    }\n",
       "</style>\n",
       "<table border=\"1\" class=\"dataframe\">\n",
       "  <thead>\n",
       "    <tr style=\"text-align: right;\">\n",
       "      <th></th>\n",
       "      <th>hora</th>\n",
       "      <th>n</th>\n",
       "    </tr>\n",
       "  </thead>\n",
       "  <tbody>\n",
       "    <tr>\n",
       "      <th>15</th>\n",
       "      <td>15</td>\n",
       "      <td>1415</td>\n",
       "    </tr>\n",
       "    <tr>\n",
       "      <th>16</th>\n",
       "      <td>16</td>\n",
       "      <td>1159</td>\n",
       "    </tr>\n",
       "    <tr>\n",
       "      <th>13</th>\n",
       "      <td>13</td>\n",
       "      <td>1066</td>\n",
       "    </tr>\n",
       "    <tr>\n",
       "      <th>14</th>\n",
       "      <td>14</td>\n",
       "      <td>1047</td>\n",
       "    </tr>\n",
       "    <tr>\n",
       "      <th>12</th>\n",
       "      <td>12</td>\n",
       "      <td>952</td>\n",
       "    </tr>\n",
       "    <tr>\n",
       "      <th>21</th>\n",
       "      <td>21</td>\n",
       "      <td>891</td>\n",
       "    </tr>\n",
       "    <tr>\n",
       "      <th>18</th>\n",
       "      <td>18</td>\n",
       "      <td>876</td>\n",
       "    </tr>\n",
       "    <tr>\n",
       "      <th>22</th>\n",
       "      <td>22</td>\n",
       "      <td>866</td>\n",
       "    </tr>\n",
       "    <tr>\n",
       "      <th>17</th>\n",
       "      <td>17</td>\n",
       "      <td>838</td>\n",
       "    </tr>\n",
       "    <tr>\n",
       "      <th>20</th>\n",
       "      <td>20</td>\n",
       "      <td>826</td>\n",
       "    </tr>\n",
       "    <tr>\n",
       "      <th>19</th>\n",
       "      <td>19</td>\n",
       "      <td>783</td>\n",
       "    </tr>\n",
       "    <tr>\n",
       "      <th>23</th>\n",
       "      <td>23</td>\n",
       "      <td>667</td>\n",
       "    </tr>\n",
       "    <tr>\n",
       "      <th>11</th>\n",
       "      <td>11</td>\n",
       "      <td>651</td>\n",
       "    </tr>\n",
       "    <tr>\n",
       "      <th>0</th>\n",
       "      <td>0</td>\n",
       "      <td>627</td>\n",
       "    </tr>\n",
       "    <tr>\n",
       "      <th>1</th>\n",
       "      <td>1</td>\n",
       "      <td>436</td>\n",
       "    </tr>\n",
       "    <tr>\n",
       "      <th>10</th>\n",
       "      <td>10</td>\n",
       "      <td>424</td>\n",
       "    </tr>\n",
       "    <tr>\n",
       "      <th>2</th>\n",
       "      <td>2</td>\n",
       "      <td>374</td>\n",
       "    </tr>\n",
       "    <tr>\n",
       "      <th>9</th>\n",
       "      <td>9</td>\n",
       "      <td>279</td>\n",
       "    </tr>\n",
       "    <tr>\n",
       "      <th>3</th>\n",
       "      <td>3</td>\n",
       "      <td>251</td>\n",
       "    </tr>\n",
       "    <tr>\n",
       "      <th>4</th>\n",
       "      <td>4</td>\n",
       "      <td>136</td>\n",
       "    </tr>\n",
       "    <tr>\n",
       "      <th>5</th>\n",
       "      <td>5</td>\n",
       "      <td>101</td>\n",
       "    </tr>\n",
       "    <tr>\n",
       "      <th>6</th>\n",
       "      <td>6</td>\n",
       "      <td>57</td>\n",
       "    </tr>\n",
       "    <tr>\n",
       "      <th>8</th>\n",
       "      <td>8</td>\n",
       "      <td>46</td>\n",
       "    </tr>\n",
       "    <tr>\n",
       "      <th>7</th>\n",
       "      <td>7</td>\n",
       "      <td>36</td>\n",
       "    </tr>\n",
       "  </tbody>\n",
       "</table>\n",
       "</div>"
      ],
      "text/plain": [
       "    hora     n\n",
       "15    15  1415\n",
       "16    16  1159\n",
       "13    13  1066\n",
       "14    14  1047\n",
       "12    12   952\n",
       "21    21   891\n",
       "18    18   876\n",
       "22    22   866\n",
       "17    17   838\n",
       "20    20   826\n",
       "19    19   783\n",
       "23    23   667\n",
       "11    11   651\n",
       "0      0   627\n",
       "1      1   436\n",
       "10    10   424\n",
       "2      2   374\n",
       "9      9   279\n",
       "3      3   251\n",
       "4      4   136\n",
       "5      5   101\n",
       "6      6    57\n",
       "8      8    46\n",
       "7      7    36"
      ]
     },
     "execution_count": 11,
     "metadata": {},
     "output_type": "execute_result"
    }
   ],
   "source": [
    "\n",
    "df_util. \\\n",
    "    groupby(['hora']) ['hora']. \\\n",
    "        count(). \\\n",
    "            reset_index(name = 'n'). \\\n",
    "                sort_values(by='n', ascending=False) \\\n",
    "                    .head(100)"
   ]
  },
  {
   "cell_type": "code",
   "execution_count": 333,
   "metadata": {},
   "outputs": [],
   "source": [
    "from datetime import datetime"
   ]
  },
  {
   "cell_type": "markdown",
   "metadata": {},
   "source": [
    "#### Youtube"
   ]
  },
  {
   "cell_type": "markdown",
   "metadata": {},
   "source": [
    "## Ideias\n",
    "\n",
    "1. canais / generos mais assistidos\n",
    "2. Semana / fim de semana / dias\n",
    "3. diversidade (de artistas e generos - qtd distintos)"
   ]
  },
  {
   "cell_type": "code",
   "execution_count": 339,
   "metadata": {},
   "outputs": [
    {
     "data": {
      "text/plain": [
       "(37224, 9)"
      ]
     },
     "execution_count": 339,
     "metadata": {},
     "output_type": "execute_result"
    }
   ],
   "source": [
    "youtube = pd.read_json('./Google/YouTube/histórico/histórico-de-visualização.json')\n",
    "youtube.shape"
   ]
  },
  {
   "cell_type": "code",
   "execution_count": 346,
   "metadata": {},
   "outputs": [
    {
     "data": {
      "text/plain": [
       "(5144, 11)"
      ]
     },
     "execution_count": 346,
     "metadata": {},
     "output_type": "execute_result"
    }
   ],
   "source": [
    "youtube = youtube[youtube.subtitles.notna()]\n",
    "youtube.time = pd.to_datetime(youtube.time, format='mixed')\n",
    "youtube = youtube[youtube.time >= '2023-01-01']\n",
    "youtube['channel'] = youtube.subtitles.apply(lambda x: x[0]['name'])\n",
    "youtube['Hour of Day'] = youtube.time.dt.hour\n",
    "\n",
    "youtube.shape"
   ]
  },
  {
   "cell_type": "code",
   "execution_count": 344,
   "metadata": {},
   "outputs": [
    {
     "data": {
      "text/html": [
       "<div>\n",
       "<style scoped>\n",
       "    .dataframe tbody tr th:only-of-type {\n",
       "        vertical-align: middle;\n",
       "    }\n",
       "\n",
       "    .dataframe tbody tr th {\n",
       "        vertical-align: top;\n",
       "    }\n",
       "\n",
       "    .dataframe thead th {\n",
       "        text-align: right;\n",
       "    }\n",
       "</style>\n",
       "<table border=\"1\" class=\"dataframe\">\n",
       "  <thead>\n",
       "    <tr style=\"text-align: right;\">\n",
       "      <th></th>\n",
       "      <th>channel</th>\n",
       "      <th>n</th>\n",
       "    </tr>\n",
       "  </thead>\n",
       "  <tbody>\n",
       "    <tr>\n",
       "      <th>1341</th>\n",
       "      <td>TV Quase</td>\n",
       "      <td>156</td>\n",
       "    </tr>\n",
       "    <tr>\n",
       "      <th>446</th>\n",
       "      <td>ESPN Brasil</td>\n",
       "      <td>123</td>\n",
       "    </tr>\n",
       "    <tr>\n",
       "      <th>1562</th>\n",
       "      <td>ge</td>\n",
       "      <td>103</td>\n",
       "    </tr>\n",
       "    <tr>\n",
       "      <th>345</th>\n",
       "      <td>Cortes do Casimito [OFICIAL]</td>\n",
       "      <td>93</td>\n",
       "    </tr>\n",
       "    <tr>\n",
       "      <th>1071</th>\n",
       "      <td>Os Donos da Bola</td>\n",
       "      <td>92</td>\n",
       "    </tr>\n",
       "    <tr>\n",
       "      <th>708</th>\n",
       "      <td>JJ Redick</td>\n",
       "      <td>91</td>\n",
       "    </tr>\n",
       "    <tr>\n",
       "      <th>985</th>\n",
       "      <td>NBA Brasil</td>\n",
       "      <td>86</td>\n",
       "    </tr>\n",
       "    <tr>\n",
       "      <th>6</th>\n",
       "      <td>3 na Área</td>\n",
       "      <td>73</td>\n",
       "    </tr>\n",
       "    <tr>\n",
       "      <th>1333</th>\n",
       "      <td>TNT Sports Brasil</td>\n",
       "      <td>69</td>\n",
       "    </tr>\n",
       "    <tr>\n",
       "      <th>665</th>\n",
       "      <td>House of Highlights</td>\n",
       "      <td>68</td>\n",
       "    </tr>\n",
       "    <tr>\n",
       "      <th>1609</th>\n",
       "      <td>omeleteve</td>\n",
       "      <td>61</td>\n",
       "    </tr>\n",
       "    <tr>\n",
       "      <th>473</th>\n",
       "      <td>Escola de Dados Preditiva</td>\n",
       "      <td>57</td>\n",
       "    </tr>\n",
       "    <tr>\n",
       "      <th>11</th>\n",
       "      <td>A Ciência da Estatística</td>\n",
       "      <td>53</td>\n",
       "    </tr>\n",
       "    <tr>\n",
       "      <th>101</th>\n",
       "      <td>Arnaldo e Tironi</td>\n",
       "      <td>47</td>\n",
       "    </tr>\n",
       "    <tr>\n",
       "      <th>339</th>\n",
       "      <td>Cortes Raiz</td>\n",
       "      <td>44</td>\n",
       "    </tr>\n",
       "    <tr>\n",
       "      <th>695</th>\n",
       "      <td>Inspiredbyhoops</td>\n",
       "      <td>40</td>\n",
       "    </tr>\n",
       "    <tr>\n",
       "      <th>751</th>\n",
       "      <td>Jovem Pan Esportes</td>\n",
       "      <td>39</td>\n",
       "    </tr>\n",
       "    <tr>\n",
       "      <th>1185</th>\n",
       "      <td>Rebound Rewind</td>\n",
       "      <td>35</td>\n",
       "    </tr>\n",
       "    <tr>\n",
       "      <th>445</th>\n",
       "      <td>ESPN</td>\n",
       "      <td>33</td>\n",
       "    </tr>\n",
       "    <tr>\n",
       "      <th>254</th>\n",
       "      <td>CazéTV</td>\n",
       "      <td>32</td>\n",
       "    </tr>\n",
       "  </tbody>\n",
       "</table>\n",
       "</div>"
      ],
      "text/plain": [
       "                           channel    n\n",
       "1341                      TV Quase  156\n",
       "446                    ESPN Brasil  123\n",
       "1562                            ge  103\n",
       "345   Cortes do Casimito [OFICIAL]   93\n",
       "1071              Os Donos da Bola   92\n",
       "708                      JJ Redick   91\n",
       "985                     NBA Brasil   86\n",
       "6                        3 na Área   73\n",
       "1333             TNT Sports Brasil   69\n",
       "665            House of Highlights   68\n",
       "1609                     omeleteve   61\n",
       "473      Escola de Dados Preditiva   57\n",
       "11        A Ciência da Estatística   53\n",
       "101               Arnaldo e Tironi   47\n",
       "339                    Cortes Raiz   44\n",
       "695                Inspiredbyhoops   40\n",
       "751             Jovem Pan Esportes   39\n",
       "1185                Rebound Rewind   35\n",
       "445                           ESPN   33\n",
       "254                         CazéTV   32"
      ]
     },
     "execution_count": 344,
     "metadata": {},
     "output_type": "execute_result"
    }
   ],
   "source": [
    "youtube. \\\n",
    "    groupby(['channel']) ['channel']. \\\n",
    "        count(). \\\n",
    "            reset_index(name = 'n'). \\\n",
    "                sort_values(by='n', ascending=False) \\\n",
    "                    .head(20)"
   ]
  },
  {
   "cell_type": "code",
   "execution_count": 359,
   "metadata": {},
   "outputs": [],
   "source": [
    "rk_yt_hours = youtube. \\\n",
    "                groupby(['Hour of Day']) ['channel']. \\\n",
    "                    count(). \\\n",
    "                        reset_index(name = 'Number of Access'). \\\n",
    "                            sort_values(by='Hour of Day', ascending=False)\n",
    "\n",
    "\n",
    "rk_yt_hours.loc[(rk_yt_hours['Hour of Day'] >= 14) & (rk_yt_hours['Hour of Day'] <= 19), ['Number of Access']] = rk_yt_hours.loc[(rk_yt_hours['Hour of Day'] >= 14) & (rk_yt_hours['Hour of Day'] <= 19)]['Number of Access']  - 190\n",
    "                \n",
    "                # 'Number of Access'] = rk_yt_hours['Number of Access'] - \n",
    "\n"
   ]
  },
  {
   "cell_type": "code",
   "execution_count": 360,
   "metadata": {},
   "outputs": [
    {
     "data": {
      "text/html": [
       "<div>\n",
       "<style scoped>\n",
       "    .dataframe tbody tr th:only-of-type {\n",
       "        vertical-align: middle;\n",
       "    }\n",
       "\n",
       "    .dataframe tbody tr th {\n",
       "        vertical-align: top;\n",
       "    }\n",
       "\n",
       "    .dataframe thead th {\n",
       "        text-align: right;\n",
       "    }\n",
       "</style>\n",
       "<table border=\"1\" class=\"dataframe\">\n",
       "  <thead>\n",
       "    <tr style=\"text-align: right;\">\n",
       "      <th></th>\n",
       "      <th>Hour of Day</th>\n",
       "      <th>Number of Access</th>\n",
       "    </tr>\n",
       "  </thead>\n",
       "  <tbody>\n",
       "    <tr>\n",
       "      <th>23</th>\n",
       "      <td>23</td>\n",
       "      <td>283</td>\n",
       "    </tr>\n",
       "    <tr>\n",
       "      <th>22</th>\n",
       "      <td>22</td>\n",
       "      <td>326</td>\n",
       "    </tr>\n",
       "    <tr>\n",
       "      <th>21</th>\n",
       "      <td>21</td>\n",
       "      <td>332</td>\n",
       "    </tr>\n",
       "    <tr>\n",
       "      <th>20</th>\n",
       "      <td>20</td>\n",
       "      <td>267</td>\n",
       "    </tr>\n",
       "    <tr>\n",
       "      <th>19</th>\n",
       "      <td>19</td>\n",
       "      <td>72</td>\n",
       "    </tr>\n",
       "    <tr>\n",
       "      <th>18</th>\n",
       "      <td>18</td>\n",
       "      <td>115</td>\n",
       "    </tr>\n",
       "    <tr>\n",
       "      <th>17</th>\n",
       "      <td>17</td>\n",
       "      <td>87</td>\n",
       "    </tr>\n",
       "    <tr>\n",
       "      <th>16</th>\n",
       "      <td>16</td>\n",
       "      <td>125</td>\n",
       "    </tr>\n",
       "    <tr>\n",
       "      <th>15</th>\n",
       "      <td>15</td>\n",
       "      <td>114</td>\n",
       "    </tr>\n",
       "    <tr>\n",
       "      <th>14</th>\n",
       "      <td>14</td>\n",
       "      <td>94</td>\n",
       "    </tr>\n",
       "    <tr>\n",
       "      <th>13</th>\n",
       "      <td>13</td>\n",
       "      <td>319</td>\n",
       "    </tr>\n",
       "    <tr>\n",
       "      <th>12</th>\n",
       "      <td>12</td>\n",
       "      <td>307</td>\n",
       "    </tr>\n",
       "    <tr>\n",
       "      <th>11</th>\n",
       "      <td>11</td>\n",
       "      <td>221</td>\n",
       "    </tr>\n",
       "    <tr>\n",
       "      <th>10</th>\n",
       "      <td>10</td>\n",
       "      <td>139</td>\n",
       "    </tr>\n",
       "    <tr>\n",
       "      <th>9</th>\n",
       "      <td>9</td>\n",
       "      <td>37</td>\n",
       "    </tr>\n",
       "    <tr>\n",
       "      <th>8</th>\n",
       "      <td>8</td>\n",
       "      <td>4</td>\n",
       "    </tr>\n",
       "    <tr>\n",
       "      <th>7</th>\n",
       "      <td>7</td>\n",
       "      <td>5</td>\n",
       "    </tr>\n",
       "    <tr>\n",
       "      <th>6</th>\n",
       "      <td>6</td>\n",
       "      <td>43</td>\n",
       "    </tr>\n",
       "    <tr>\n",
       "      <th>5</th>\n",
       "      <td>5</td>\n",
       "      <td>50</td>\n",
       "    </tr>\n",
       "    <tr>\n",
       "      <th>4</th>\n",
       "      <td>4</td>\n",
       "      <td>113</td>\n",
       "    </tr>\n",
       "    <tr>\n",
       "      <th>3</th>\n",
       "      <td>3</td>\n",
       "      <td>155</td>\n",
       "    </tr>\n",
       "    <tr>\n",
       "      <th>2</th>\n",
       "      <td>2</td>\n",
       "      <td>240</td>\n",
       "    </tr>\n",
       "    <tr>\n",
       "      <th>1</th>\n",
       "      <td>1</td>\n",
       "      <td>278</td>\n",
       "    </tr>\n",
       "    <tr>\n",
       "      <th>0</th>\n",
       "      <td>0</td>\n",
       "      <td>278</td>\n",
       "    </tr>\n",
       "  </tbody>\n",
       "</table>\n",
       "</div>"
      ],
      "text/plain": [
       "    Hour of Day  Number of Access\n",
       "23           23               283\n",
       "22           22               326\n",
       "21           21               332\n",
       "20           20               267\n",
       "19           19                72\n",
       "18           18               115\n",
       "17           17                87\n",
       "16           16               125\n",
       "15           15               114\n",
       "14           14                94\n",
       "13           13               319\n",
       "12           12               307\n",
       "11           11               221\n",
       "10           10               139\n",
       "9             9                37\n",
       "8             8                 4\n",
       "7             7                 5\n",
       "6             6                43\n",
       "5             5                50\n",
       "4             4               113\n",
       "3             3               155\n",
       "2             2               240\n",
       "1             1               278\n",
       "0             0               278"
      ]
     },
     "execution_count": 360,
     "metadata": {},
     "output_type": "execute_result"
    }
   ],
   "source": [
    "rk_yt_hours"
   ]
  },
  {
   "cell_type": "markdown",
   "metadata": {},
   "source": [
    "### Maps"
   ]
  },
  {
   "cell_type": "code",
   "execution_count": 195,
   "metadata": {},
   "outputs": [],
   "source": [
    "import pandas as pd\n",
    "import numpy as np"
   ]
  },
  {
   "cell_type": "code",
   "execution_count": 158,
   "metadata": {},
   "outputs": [
    {
     "name": "stdout",
     "output_type": "stream",
     "text": [
      "(181, 1)\n",
      "(138, 1)\n",
      "(201, 1)\n",
      "(110, 1)\n",
      "(94, 1)\n",
      "(144, 1)\n",
      "(169, 1)\n",
      "(151, 1)\n",
      "(135, 1)\n",
      "(101, 1)\n",
      "(92, 1)\n"
     ]
    },
    {
     "data": {
      "text/html": [
       "<div>\n",
       "<style scoped>\n",
       "    .dataframe tbody tr th:only-of-type {\n",
       "        vertical-align: middle;\n",
       "    }\n",
       "\n",
       "    .dataframe tbody tr th {\n",
       "        vertical-align: top;\n",
       "    }\n",
       "\n",
       "    .dataframe thead th {\n",
       "        text-align: right;\n",
       "    }\n",
       "</style>\n",
       "<table border=\"1\" class=\"dataframe\">\n",
       "  <thead>\n",
       "    <tr style=\"text-align: right;\">\n",
       "      <th></th>\n",
       "      <th>timelineObjects</th>\n",
       "    </tr>\n",
       "  </thead>\n",
       "  <tbody>\n",
       "    <tr>\n",
       "      <th>0</th>\n",
       "      <td>{'placeVisit': {'location': {'latitudeE7': -23...</td>\n",
       "    </tr>\n",
       "    <tr>\n",
       "      <th>1</th>\n",
       "      <td>{'activitySegment': {'startLocation': {'latitu...</td>\n",
       "    </tr>\n",
       "    <tr>\n",
       "      <th>2</th>\n",
       "      <td>{'placeVisit': {'location': {'latitudeE7': -23...</td>\n",
       "    </tr>\n",
       "    <tr>\n",
       "      <th>3</th>\n",
       "      <td>{'activitySegment': {'startLocation': {'latitu...</td>\n",
       "    </tr>\n",
       "    <tr>\n",
       "      <th>4</th>\n",
       "      <td>{'placeVisit': {'location': {'latitudeE7': -23...</td>\n",
       "    </tr>\n",
       "    <tr>\n",
       "      <th>...</th>\n",
       "      <td>...</td>\n",
       "    </tr>\n",
       "    <tr>\n",
       "      <th>176</th>\n",
       "      <td>{'placeVisit': {'location': {'latitudeE7': -23...</td>\n",
       "    </tr>\n",
       "    <tr>\n",
       "      <th>177</th>\n",
       "      <td>{'activitySegment': {'startLocation': {'latitu...</td>\n",
       "    </tr>\n",
       "    <tr>\n",
       "      <th>178</th>\n",
       "      <td>{'placeVisit': {'location': {'latitudeE7': -23...</td>\n",
       "    </tr>\n",
       "    <tr>\n",
       "      <th>179</th>\n",
       "      <td>{'activitySegment': {'startLocation': {'latitu...</td>\n",
       "    </tr>\n",
       "    <tr>\n",
       "      <th>180</th>\n",
       "      <td>{'placeVisit': {'location': {'latitudeE7': -23...</td>\n",
       "    </tr>\n",
       "  </tbody>\n",
       "</table>\n",
       "<p>1516 rows × 1 columns</p>\n",
       "</div>"
      ],
      "text/plain": [
       "                                       timelineObjects\n",
       "0    {'placeVisit': {'location': {'latitudeE7': -23...\n",
       "1    {'activitySegment': {'startLocation': {'latitu...\n",
       "2    {'placeVisit': {'location': {'latitudeE7': -23...\n",
       "3    {'activitySegment': {'startLocation': {'latitu...\n",
       "4    {'placeVisit': {'location': {'latitudeE7': -23...\n",
       "..                                                 ...\n",
       "176  {'placeVisit': {'location': {'latitudeE7': -23...\n",
       "177  {'activitySegment': {'startLocation': {'latitu...\n",
       "178  {'placeVisit': {'location': {'latitudeE7': -23...\n",
       "179  {'activitySegment': {'startLocation': {'latitu...\n",
       "180  {'placeVisit': {'location': {'latitudeE7': -23...\n",
       "\n",
       "[1516 rows x 1 columns]"
      ]
     },
     "execution_count": 158,
     "metadata": {},
     "output_type": "execute_result"
    }
   ],
   "source": [
    "maps = pd.DataFrame()\n",
    "\n",
    "months = ['JANUARY', 'FEBRUARY', 'MARCH', 'APRIL', 'MAY', 'JUNE', 'JULY', 'AUGUST', 'SEPTEMBER', 'OCTOBER', 'NOVEMBER']\n",
    "\n",
    "for month in months:\n",
    "    temp = pd.read_json(f'./Google/Maps/Semantic Location History/2023/2023_{month}.json')\n",
    "\n",
    "    print(temp.shape)\n",
    "\n",
    "    maps = pd.concat([temp, maps], axis=0)\n",
    "\n",
    "maps"
   ]
  },
  {
   "cell_type": "code",
   "execution_count": null,
   "metadata": {},
   "outputs": [],
   "source": []
  },
  {
   "cell_type": "code",
   "execution_count": 159,
   "metadata": {},
   "outputs": [
    {
     "data": {
      "text/html": [
       "<div>\n",
       "<style scoped>\n",
       "    .dataframe tbody tr th:only-of-type {\n",
       "        vertical-align: middle;\n",
       "    }\n",
       "\n",
       "    .dataframe tbody tr th {\n",
       "        vertical-align: top;\n",
       "    }\n",
       "\n",
       "    .dataframe thead th {\n",
       "        text-align: right;\n",
       "    }\n",
       "</style>\n",
       "<table border=\"1\" class=\"dataframe\">\n",
       "  <thead>\n",
       "    <tr style=\"text-align: right;\">\n",
       "      <th></th>\n",
       "      <th>timelineObjects</th>\n",
       "      <th>places</th>\n",
       "    </tr>\n",
       "  </thead>\n",
       "  <tbody>\n",
       "    <tr>\n",
       "      <th>0</th>\n",
       "      <td>{'placeVisit': {'location': {'latitudeE7': -23...</td>\n",
       "      <td>True</td>\n",
       "    </tr>\n",
       "    <tr>\n",
       "      <th>2</th>\n",
       "      <td>{'placeVisit': {'location': {'latitudeE7': -23...</td>\n",
       "      <td>True</td>\n",
       "    </tr>\n",
       "    <tr>\n",
       "      <th>4</th>\n",
       "      <td>{'placeVisit': {'location': {'latitudeE7': -23...</td>\n",
       "      <td>True</td>\n",
       "    </tr>\n",
       "    <tr>\n",
       "      <th>6</th>\n",
       "      <td>{'placeVisit': {'location': {'latitudeE7': -23...</td>\n",
       "      <td>True</td>\n",
       "    </tr>\n",
       "    <tr>\n",
       "      <th>8</th>\n",
       "      <td>{'placeVisit': {'location': {'latitudeE7': -23...</td>\n",
       "      <td>True</td>\n",
       "    </tr>\n",
       "    <tr>\n",
       "      <th>...</th>\n",
       "      <td>...</td>\n",
       "      <td>...</td>\n",
       "    </tr>\n",
       "    <tr>\n",
       "      <th>172</th>\n",
       "      <td>{'placeVisit': {'location': {'latitudeE7': -23...</td>\n",
       "      <td>True</td>\n",
       "    </tr>\n",
       "    <tr>\n",
       "      <th>174</th>\n",
       "      <td>{'placeVisit': {'location': {'latitudeE7': -23...</td>\n",
       "      <td>True</td>\n",
       "    </tr>\n",
       "    <tr>\n",
       "      <th>176</th>\n",
       "      <td>{'placeVisit': {'location': {'latitudeE7': -23...</td>\n",
       "      <td>True</td>\n",
       "    </tr>\n",
       "    <tr>\n",
       "      <th>178</th>\n",
       "      <td>{'placeVisit': {'location': {'latitudeE7': -23...</td>\n",
       "      <td>True</td>\n",
       "    </tr>\n",
       "    <tr>\n",
       "      <th>180</th>\n",
       "      <td>{'placeVisit': {'location': {'latitudeE7': -23...</td>\n",
       "      <td>True</td>\n",
       "    </tr>\n",
       "  </tbody>\n",
       "</table>\n",
       "<p>765 rows × 2 columns</p>\n",
       "</div>"
      ],
      "text/plain": [
       "                                       timelineObjects  places\n",
       "0    {'placeVisit': {'location': {'latitudeE7': -23...    True\n",
       "2    {'placeVisit': {'location': {'latitudeE7': -23...    True\n",
       "4    {'placeVisit': {'location': {'latitudeE7': -23...    True\n",
       "6    {'placeVisit': {'location': {'latitudeE7': -23...    True\n",
       "8    {'placeVisit': {'location': {'latitudeE7': -23...    True\n",
       "..                                                 ...     ...\n",
       "172  {'placeVisit': {'location': {'latitudeE7': -23...    True\n",
       "174  {'placeVisit': {'location': {'latitudeE7': -23...    True\n",
       "176  {'placeVisit': {'location': {'latitudeE7': -23...    True\n",
       "178  {'placeVisit': {'location': {'latitudeE7': -23...    True\n",
       "180  {'placeVisit': {'location': {'latitudeE7': -23...    True\n",
       "\n",
       "[765 rows x 2 columns]"
      ]
     },
     "execution_count": 159,
     "metadata": {},
     "output_type": "execute_result"
    }
   ],
   "source": [
    "maps['places'] = maps['timelineObjects'].apply(lambda x: list(x.keys())[0] == 'placeVisit')\n",
    "maps_places = maps.loc[maps.places]\n",
    "\n",
    "maps_places"
   ]
  },
  {
   "cell_type": "code",
   "execution_count": 144,
   "metadata": {},
   "outputs": [
    {
     "data": {
      "text/plain": [
       "{'startTimestamp': '2023-09-02T13:40:09.279Z',\n",
       " 'endTimestamp': '2023-09-02T13:48:16.491Z'}"
      ]
     },
     "execution_count": 144,
     "metadata": {},
     "output_type": "execute_result"
    }
   ],
   "source": [
    "\n",
    "maps_places['timelineObjects'].iloc[0]['placeVisit']['duration']"
   ]
  },
  {
   "cell_type": "code",
   "execution_count": 122,
   "metadata": {},
   "outputs": [
    {
     "data": {
      "text/plain": [
       "True"
      ]
     },
     "execution_count": 122,
     "metadata": {},
     "output_type": "execute_result"
    }
   ],
   "source": [
    "'name' in d.keys()"
   ]
  },
  {
   "cell_type": "code",
   "execution_count": 119,
   "metadata": {},
   "outputs": [
    {
     "data": {
      "text/plain": [
       "1      {'latitudeE7': -236926339, 'longitudeE7': -465...\n",
       "3      {'latitudeE7': -236913334, 'longitudeE7': -465...\n",
       "5      {'latitudeE7': -236693925, 'longitudeE7': -465...\n",
       "7      {'latitudeE7': -236913334, 'longitudeE7': -465...\n",
       "9      {'latitudeE7': -236935179, 'longitudeE7': -465...\n",
       "                             ...                        \n",
       "126    {'latitudeE7': -236913334, 'longitudeE7': -465...\n",
       "128    {'latitudeE7': -236935179, 'longitudeE7': -465...\n",
       "130    {'latitudeE7': -236913334, 'longitudeE7': -465...\n",
       "132    {'latitudeE7': -236693925, 'longitudeE7': -465...\n",
       "134    {'latitudeE7': -236913334, 'longitudeE7': -465...\n",
       "Name: timelineObjects, Length: 69, dtype: object"
      ]
     },
     "execution_count": 119,
     "metadata": {},
     "output_type": "execute_result"
    }
   ],
   "source": [
    "maps_places['timelineObjects'].apply(lambda x: x['placeVisit']['location'])"
   ]
  },
  {
   "cell_type": "code",
   "execution_count": 136,
   "metadata": {},
   "outputs": [
    {
     "data": {
      "text/plain": [
       "{'latitudeE7': -236913334,\n",
       " 'longitudeE7': -465033910,\n",
       " 'placeId': 'ChIJBWe5CFZpzpQREXLjQEuuMNU',\n",
       " 'address': 'Rua Dr. Mayera, 398 - Vila Tibiriçá, Santo André - SP, 09130-170, Brasil',\n",
       " 'semanticType': 'TYPE_HOME',\n",
       " 'sourceInfo': {'deviceTag': -1710595576},\n",
       " 'locationConfidence': 92.06539,\n",
       " 'calibratedProbability': 67.54805}"
      ]
     },
     "execution_count": 136,
     "metadata": {},
     "output_type": "execute_result"
    }
   ],
   "source": [
    "maps_places['timelineObjects'].iloc[1]['placeVisit']['location']\n"
   ]
  },
  {
   "cell_type": "code",
   "execution_count": 229,
   "metadata": {},
   "outputs": [
    {
     "data": {
      "text/html": [
       "<div>\n",
       "<style scoped>\n",
       "    .dataframe tbody tr th:only-of-type {\n",
       "        vertical-align: middle;\n",
       "    }\n",
       "\n",
       "    .dataframe tbody tr th {\n",
       "        vertical-align: top;\n",
       "    }\n",
       "\n",
       "    .dataframe thead th {\n",
       "        text-align: right;\n",
       "    }\n",
       "</style>\n",
       "<table border=\"1\" class=\"dataframe\">\n",
       "  <thead>\n",
       "    <tr style=\"text-align: right;\">\n",
       "      <th></th>\n",
       "      <th>lat</th>\n",
       "      <th>long</th>\n",
       "      <th>endereco</th>\n",
       "      <th>Place</th>\n",
       "      <th>data</th>\n",
       "      <th>dia_semana</th>\n",
       "      <th>num_dia_semana</th>\n",
       "      <th>hora</th>\n",
       "      <th>Day Type</th>\n",
       "      <th>Location Type</th>\n",
       "      <th>Context</th>\n",
       "    </tr>\n",
       "  </thead>\n",
       "  <tbody>\n",
       "    <tr>\n",
       "      <th>0</th>\n",
       "      <td>-23.691333</td>\n",
       "      <td>-46.503391</td>\n",
       "      <td>Rua Dr. Mayera, 398 - Vila Tibiriçá, Santo And...</td>\n",
       "      <td>Home</td>\n",
       "      <td>2023-11-01 16:15:12.537000+00:00</td>\n",
       "      <td>Wednesday</td>\n",
       "      <td>2</td>\n",
       "      <td>16</td>\n",
       "      <td>Weekday</td>\n",
       "      <td>Lowlight</td>\n",
       "      <td>Too many places called home for only a year!</td>\n",
       "    </tr>\n",
       "    <tr>\n",
       "      <th>2</th>\n",
       "      <td>-23.572980</td>\n",
       "      <td>-46.447255</td>\n",
       "      <td>R. Iososuke Okaue, 32a - Jardim Helian, São Pa...</td>\n",
       "      <td>Aquarius Fitness</td>\n",
       "      <td>2023-11-01 20:52:33.423000+00:00</td>\n",
       "      <td>Wednesday</td>\n",
       "      <td>2</td>\n",
       "      <td>20</td>\n",
       "      <td>Weekday</td>\n",
       "      <td>Usual</td>\n",
       "      <td>Usual</td>\n",
       "    </tr>\n",
       "    <tr>\n",
       "      <th>4</th>\n",
       "      <td>-23.691333</td>\n",
       "      <td>-46.503391</td>\n",
       "      <td>Rua Dr. Mayera, 398 - Vila Tibiriçá, Santo And...</td>\n",
       "      <td>Home</td>\n",
       "      <td>2023-11-01 23:45:59.576000+00:00</td>\n",
       "      <td>Wednesday</td>\n",
       "      <td>2</td>\n",
       "      <td>23</td>\n",
       "      <td>Weekday</td>\n",
       "      <td>Lowlight</td>\n",
       "      <td>Too many places called home for only a year!</td>\n",
       "    </tr>\n",
       "    <tr>\n",
       "      <th>6</th>\n",
       "      <td>-23.693518</td>\n",
       "      <td>-46.505370</td>\n",
       "      <td>Av. Dom Pedro I, 3339 - Vila Luzita, Santo And...</td>\n",
       "      <td>Supermercados Nagumo - Vila Luzita</td>\n",
       "      <td>2023-11-02 22:33:34.924000+00:00</td>\n",
       "      <td>Thursday</td>\n",
       "      <td>3</td>\n",
       "      <td>22</td>\n",
       "      <td>Weekday</td>\n",
       "      <td>Usual</td>\n",
       "      <td>Usual</td>\n",
       "    </tr>\n",
       "    <tr>\n",
       "      <th>8</th>\n",
       "      <td>-23.691333</td>\n",
       "      <td>-46.503391</td>\n",
       "      <td>Rua Dr. Mayera, 398 - Vila Tibiriçá, Santo And...</td>\n",
       "      <td>Home</td>\n",
       "      <td>2023-11-02 22:47:47.391000+00:00</td>\n",
       "      <td>Thursday</td>\n",
       "      <td>3</td>\n",
       "      <td>22</td>\n",
       "      <td>Weekday</td>\n",
       "      <td>Lowlight</td>\n",
       "      <td>Too many places called home for only a year!</td>\n",
       "    </tr>\n",
       "    <tr>\n",
       "      <th>...</th>\n",
       "      <td>...</td>\n",
       "      <td>...</td>\n",
       "      <td>...</td>\n",
       "      <td>...</td>\n",
       "      <td>...</td>\n",
       "      <td>...</td>\n",
       "      <td>...</td>\n",
       "      <td>...</td>\n",
       "      <td>...</td>\n",
       "      <td>...</td>\n",
       "      <td>...</td>\n",
       "    </tr>\n",
       "    <tr>\n",
       "      <th>172</th>\n",
       "      <td>-23.629045</td>\n",
       "      <td>-46.509255</td>\n",
       "      <td>R. Angola, 115 - Parque Oratorio, Santo André ...</td>\n",
       "      <td>Home</td>\n",
       "      <td>2023-01-30 09:43:46.533000+00:00</td>\n",
       "      <td>Monday</td>\n",
       "      <td>0</td>\n",
       "      <td>9</td>\n",
       "      <td>Weekday</td>\n",
       "      <td>Lowlight</td>\n",
       "      <td>Too many places called home for only a year!</td>\n",
       "    </tr>\n",
       "    <tr>\n",
       "      <th>174</th>\n",
       "      <td>-23.632500</td>\n",
       "      <td>-46.506944</td>\n",
       "      <td>Rua Madagascar E 552, 546 - Parque Oratorio, S...</td>\n",
       "      <td>Supermercados China</td>\n",
       "      <td>2023-01-30 18:18:28.037000+00:00</td>\n",
       "      <td>Monday</td>\n",
       "      <td>0</td>\n",
       "      <td>18</td>\n",
       "      <td>Weekday</td>\n",
       "      <td>Usual</td>\n",
       "      <td>Usual</td>\n",
       "    </tr>\n",
       "    <tr>\n",
       "      <th>176</th>\n",
       "      <td>-23.629045</td>\n",
       "      <td>-46.509255</td>\n",
       "      <td>R. Angola, 115 - Parque Oratorio, Santo André ...</td>\n",
       "      <td>Home</td>\n",
       "      <td>2023-01-30 18:51:25.553000+00:00</td>\n",
       "      <td>Monday</td>\n",
       "      <td>0</td>\n",
       "      <td>18</td>\n",
       "      <td>Weekday</td>\n",
       "      <td>Lowlight</td>\n",
       "      <td>Too many places called home for only a year!</td>\n",
       "    </tr>\n",
       "    <tr>\n",
       "      <th>178</th>\n",
       "      <td>-23.623493</td>\n",
       "      <td>-46.700414</td>\n",
       "      <td>Chácara Santo Antônio (Zona Sul), São Paulo - ...</td>\n",
       "      <td>Rochaverá Corporate Towers B</td>\n",
       "      <td>2023-01-31 10:09:10.444000+00:00</td>\n",
       "      <td>Tuesday</td>\n",
       "      <td>1</td>\n",
       "      <td>10</td>\n",
       "      <td>Weekday</td>\n",
       "      <td>Usual</td>\n",
       "      <td>Usual</td>\n",
       "    </tr>\n",
       "    <tr>\n",
       "      <th>180</th>\n",
       "      <td>-23.629045</td>\n",
       "      <td>-46.509255</td>\n",
       "      <td>R. Angola, 115 - Parque Oratorio, Santo André ...</td>\n",
       "      <td>Home</td>\n",
       "      <td>2023-01-31 23:23:26.845000+00:00</td>\n",
       "      <td>Tuesday</td>\n",
       "      <td>1</td>\n",
       "      <td>23</td>\n",
       "      <td>Weekday</td>\n",
       "      <td>Lowlight</td>\n",
       "      <td>Too many places called home for only a year!</td>\n",
       "    </tr>\n",
       "  </tbody>\n",
       "</table>\n",
       "<p>765 rows × 11 columns</p>\n",
       "</div>"
      ],
      "text/plain": [
       "           lat       long                                           endereco  \\\n",
       "0   -23.691333 -46.503391  Rua Dr. Mayera, 398 - Vila Tibiriçá, Santo And...   \n",
       "2   -23.572980 -46.447255  R. Iososuke Okaue, 32a - Jardim Helian, São Pa...   \n",
       "4   -23.691333 -46.503391  Rua Dr. Mayera, 398 - Vila Tibiriçá, Santo And...   \n",
       "6   -23.693518 -46.505370  Av. Dom Pedro I, 3339 - Vila Luzita, Santo And...   \n",
       "8   -23.691333 -46.503391  Rua Dr. Mayera, 398 - Vila Tibiriçá, Santo And...   \n",
       "..         ...        ...                                                ...   \n",
       "172 -23.629045 -46.509255  R. Angola, 115 - Parque Oratorio, Santo André ...   \n",
       "174 -23.632500 -46.506944  Rua Madagascar E 552, 546 - Parque Oratorio, S...   \n",
       "176 -23.629045 -46.509255  R. Angola, 115 - Parque Oratorio, Santo André ...   \n",
       "178 -23.623493 -46.700414  Chácara Santo Antônio (Zona Sul), São Paulo - ...   \n",
       "180 -23.629045 -46.509255  R. Angola, 115 - Parque Oratorio, Santo André ...   \n",
       "\n",
       "                                  Place                             data  \\\n",
       "0                                  Home 2023-11-01 16:15:12.537000+00:00   \n",
       "2                      Aquarius Fitness 2023-11-01 20:52:33.423000+00:00   \n",
       "4                                  Home 2023-11-01 23:45:59.576000+00:00   \n",
       "6    Supermercados Nagumo - Vila Luzita 2023-11-02 22:33:34.924000+00:00   \n",
       "8                                  Home 2023-11-02 22:47:47.391000+00:00   \n",
       "..                                  ...                              ...   \n",
       "172                                Home 2023-01-30 09:43:46.533000+00:00   \n",
       "174                 Supermercados China 2023-01-30 18:18:28.037000+00:00   \n",
       "176                                Home 2023-01-30 18:51:25.553000+00:00   \n",
       "178        Rochaverá Corporate Towers B 2023-01-31 10:09:10.444000+00:00   \n",
       "180                                Home 2023-01-31 23:23:26.845000+00:00   \n",
       "\n",
       "    dia_semana  num_dia_semana  hora Day Type Location Type  \\\n",
       "0    Wednesday               2    16  Weekday      Lowlight   \n",
       "2    Wednesday               2    20  Weekday         Usual   \n",
       "4    Wednesday               2    23  Weekday      Lowlight   \n",
       "6     Thursday               3    22  Weekday         Usual   \n",
       "8     Thursday               3    22  Weekday      Lowlight   \n",
       "..         ...             ...   ...      ...           ...   \n",
       "172     Monday               0     9  Weekday      Lowlight   \n",
       "174     Monday               0    18  Weekday         Usual   \n",
       "176     Monday               0    18  Weekday      Lowlight   \n",
       "178    Tuesday               1    10  Weekday         Usual   \n",
       "180    Tuesday               1    23  Weekday      Lowlight   \n",
       "\n",
       "                                            Context  \n",
       "0      Too many places called home for only a year!  \n",
       "2                                             Usual  \n",
       "4      Too many places called home for only a year!  \n",
       "6                                             Usual  \n",
       "8      Too many places called home for only a year!  \n",
       "..                                              ...  \n",
       "172    Too many places called home for only a year!  \n",
       "174                                           Usual  \n",
       "176    Too many places called home for only a year!  \n",
       "178                                           Usual  \n",
       "180    Too many places called home for only a year!  \n",
       "\n",
       "[765 rows x 11 columns]"
      ]
     },
     "execution_count": 229,
     "metadata": {},
     "output_type": "execute_result"
    }
   ],
   "source": [
    "maps_geo = pd.DataFrame()\n",
    "\n",
    "maps_geo['lat'] = maps_places['timelineObjects'].apply(lambda x: x['placeVisit']['location']['latitudeE7']) / 10000000\n",
    "maps_geo['long'] = maps_places['timelineObjects'].apply(lambda x: x['placeVisit']['location']['longitudeE7']) / 10000000\n",
    "maps_geo['endereco'] = maps_places['timelineObjects'].apply(lambda x: x['placeVisit']['location']['address'] if 'address' in x['placeVisit']['location'].keys() else 'N/A') \n",
    "maps_geo['Place'] = maps_places['timelineObjects'].apply(lambda x: x['placeVisit']['location']['name'] if 'name' in x['placeVisit']['location'].keys() else 'Home')\n",
    "maps_geo['data'] = maps_places['timelineObjects'].apply(lambda x: x['placeVisit']['duration']['startTimestamp'])\n",
    "\n",
    "\n",
    "maps_geo['data'] = pd.to_datetime(maps_geo['data'])\n",
    "\n",
    "maps_geo['dia_semana'] = maps_geo.data.dt.day_name()\n",
    "maps_geo['num_dia_semana'] = maps_geo.data.dt.weekday\n",
    "maps_geo['hora'] = maps_geo.data.dt.hour\n",
    "maps_geo['Day Type'] = maps_geo.num_dia_semana.apply(lambda x: 'Weekend' if x >= 5 else 'Weekday' )\n",
    "\n",
    "\n",
    "conds = [maps_geo.Place.isin(['CEMA Hospital', 'Hospital do Medo Airsoft', 'Corinthians Soccer Club of St. Andrew', 'Zanon Ball', 'Dynamic Fitness Academy']),\n",
    "         maps_geo.Place.isin([\"Home\", \"McDonald's\", \"Aljad Motorcycle Parts\"])]\n",
    "\n",
    "maps_geo['Location Type'] = np.select(conds, ['Highlight', 'Lowlight'], default='Usual')\n",
    "\n",
    "\n",
    "conds = [maps_geo.Place.isin(['CEMA Hospital']),\n",
    "         maps_geo.Place.isin(['Hospital do Medo Airsoft']),\n",
    "         maps_geo.Place.isin(['Corinthians Soccer Club of St. Andrew', 'Zanon Ball']),\n",
    "         maps_geo.Place.isin( ['Dynamic Fitness Academy']),\n",
    "         maps_geo.Place.isin([\"Home\"]),\n",
    "         maps_geo.Place.isin([\"McDonald's\"]),\n",
    "         maps_geo.Place.isin([\"Aljad Motorcycle Parts\"])]\n",
    "\n",
    "maps_geo['Context'] = np.select(conds, ['  I had surgery to reduce myopia (~3 degrees), I am very satisfied with the results',\n",
    "                                        '  First time doing it (probably last, it hurts), but it was a fun experience',\n",
    "                                        '  Keeping a football routine, playing every Saturday after a long time away from sports',\n",
    "                                        '  Keeping a gym routine (2 times a week), better life quality',\n",
    "                                        '  Too many places called home for only a year!',\n",
    "                                        '  I am, little by little, changing to a healthier diet, but there is still room to reduce this type of consumption',\n",
    "                                        '  I bought a motorcycle this year, which has been really cool, but it has broken down 4 times'], \n",
    "                                        \n",
    "                                        default='  Usual')\n",
    "maps_geo"
   ]
  },
  {
   "cell_type": "code",
   "execution_count": 230,
   "metadata": {},
   "outputs": [],
   "source": [
    "maps_geo_grouped = maps_geo \\\n",
    "    .groupby(['lat', 'long', 'endereco', 'Place', 'Day Type', 'Location Type', 'Context']) ['Place'] \\\n",
    "    .count() \\\n",
    "    .reset_index(name='n')"
   ]
  },
  {
   "cell_type": "code",
   "execution_count": 236,
   "metadata": {},
   "outputs": [],
   "source": [
    "import streamlit as st"
   ]
  },
  {
   "cell_type": "code",
   "execution_count": 237,
   "metadata": {},
   "outputs": [
    {
     "name": "stdout",
     "output_type": "stream",
     "text": [
      "\u001b[1;31mSignature:\u001b[0m\n",
      "\u001b[0mst\u001b[0m\u001b[1;33m.\u001b[0m\u001b[0mimage\u001b[0m\u001b[1;33m(\u001b[0m\u001b[1;33m\n",
      "\u001b[0m    \u001b[0mimage\u001b[0m\u001b[1;33m:\u001b[0m \u001b[0mUnion\u001b[0m\u001b[1;33m[\u001b[0m\u001b[0mPIL\u001b[0m\u001b[1;33m.\u001b[0m\u001b[0mImageFile\u001b[0m\u001b[1;33m.\u001b[0m\u001b[0mImageFile\u001b[0m\u001b[1;33m,\u001b[0m \u001b[0mPIL\u001b[0m\u001b[1;33m.\u001b[0m\u001b[0mImage\u001b[0m\u001b[1;33m.\u001b[0m\u001b[0mImage\u001b[0m\u001b[1;33m,\u001b[0m \u001b[0mPIL\u001b[0m\u001b[1;33m.\u001b[0m\u001b[0mGifImagePlugin\u001b[0m\u001b[1;33m.\u001b[0m\u001b[0mGifImageFile\u001b[0m\u001b[1;33m,\u001b[0m \u001b[0mForwardRef\u001b[0m\u001b[1;33m(\u001b[0m\u001b[1;34m'npt.NDArray[Any]'\u001b[0m\u001b[1;33m)\u001b[0m\u001b[1;33m,\u001b[0m \u001b[0m_io\u001b[0m\u001b[1;33m.\u001b[0m\u001b[0mBytesIO\u001b[0m\u001b[1;33m,\u001b[0m \u001b[0mstr\u001b[0m\u001b[1;33m,\u001b[0m \u001b[0mList\u001b[0m\u001b[1;33m[\u001b[0m\u001b[0mUnion\u001b[0m\u001b[1;33m[\u001b[0m\u001b[0mPIL\u001b[0m\u001b[1;33m.\u001b[0m\u001b[0mImageFile\u001b[0m\u001b[1;33m.\u001b[0m\u001b[0mImageFile\u001b[0m\u001b[1;33m,\u001b[0m \u001b[0mPIL\u001b[0m\u001b[1;33m.\u001b[0m\u001b[0mImage\u001b[0m\u001b[1;33m.\u001b[0m\u001b[0mImage\u001b[0m\u001b[1;33m,\u001b[0m \u001b[0mPIL\u001b[0m\u001b[1;33m.\u001b[0m\u001b[0mGifImagePlugin\u001b[0m\u001b[1;33m.\u001b[0m\u001b[0mGifImageFile\u001b[0m\u001b[1;33m,\u001b[0m \u001b[0mForwardRef\u001b[0m\u001b[1;33m(\u001b[0m\u001b[1;34m'npt.NDArray[Any]'\u001b[0m\u001b[1;33m)\u001b[0m\u001b[1;33m,\u001b[0m \u001b[0m_io\u001b[0m\u001b[1;33m.\u001b[0m\u001b[0mBytesIO\u001b[0m\u001b[1;33m,\u001b[0m \u001b[0mstr\u001b[0m\u001b[1;33m]\u001b[0m\u001b[1;33m]\u001b[0m\u001b[1;33m]\u001b[0m\u001b[1;33m,\u001b[0m\u001b[1;33m\n",
      "\u001b[0m    \u001b[0mcaption\u001b[0m\u001b[1;33m:\u001b[0m \u001b[0mUnion\u001b[0m\u001b[1;33m[\u001b[0m\u001b[0mstr\u001b[0m\u001b[1;33m,\u001b[0m \u001b[0mList\u001b[0m\u001b[1;33m[\u001b[0m\u001b[0mstr\u001b[0m\u001b[1;33m]\u001b[0m\u001b[1;33m,\u001b[0m \u001b[0mNoneType\u001b[0m\u001b[1;33m]\u001b[0m \u001b[1;33m=\u001b[0m \u001b[1;32mNone\u001b[0m\u001b[1;33m,\u001b[0m\u001b[1;33m\n",
      "\u001b[0m    \u001b[0mwidth\u001b[0m\u001b[1;33m:\u001b[0m \u001b[0mOptional\u001b[0m\u001b[1;33m[\u001b[0m\u001b[0mint\u001b[0m\u001b[1;33m]\u001b[0m \u001b[1;33m=\u001b[0m \u001b[1;32mNone\u001b[0m\u001b[1;33m,\u001b[0m\u001b[1;33m\n",
      "\u001b[0m    \u001b[0muse_column_width\u001b[0m\u001b[1;33m:\u001b[0m \u001b[0mUnion\u001b[0m\u001b[1;33m[\u001b[0m\u001b[0mLiteral\u001b[0m\u001b[1;33m[\u001b[0m\u001b[1;34m'auto'\u001b[0m\u001b[1;33m,\u001b[0m \u001b[1;34m'always'\u001b[0m\u001b[1;33m,\u001b[0m \u001b[1;34m'never'\u001b[0m\u001b[1;33m]\u001b[0m\u001b[1;33m,\u001b[0m \u001b[0mbool\u001b[0m\u001b[1;33m,\u001b[0m \u001b[0mNoneType\u001b[0m\u001b[1;33m]\u001b[0m \u001b[1;33m=\u001b[0m \u001b[1;32mNone\u001b[0m\u001b[1;33m,\u001b[0m\u001b[1;33m\n",
      "\u001b[0m    \u001b[0mclamp\u001b[0m\u001b[1;33m:\u001b[0m \u001b[0mbool\u001b[0m \u001b[1;33m=\u001b[0m \u001b[1;32mFalse\u001b[0m\u001b[1;33m,\u001b[0m\u001b[1;33m\n",
      "\u001b[0m    \u001b[0mchannels\u001b[0m\u001b[1;33m:\u001b[0m \u001b[0mLiteral\u001b[0m\u001b[1;33m[\u001b[0m\u001b[1;34m'RGB'\u001b[0m\u001b[1;33m,\u001b[0m \u001b[1;34m'BGR'\u001b[0m\u001b[1;33m]\u001b[0m \u001b[1;33m=\u001b[0m \u001b[1;34m'RGB'\u001b[0m\u001b[1;33m,\u001b[0m\u001b[1;33m\n",
      "\u001b[0m    \u001b[0moutput_format\u001b[0m\u001b[1;33m:\u001b[0m \u001b[0mLiteral\u001b[0m\u001b[1;33m[\u001b[0m\u001b[1;34m'JPEG'\u001b[0m\u001b[1;33m,\u001b[0m \u001b[1;34m'PNG'\u001b[0m\u001b[1;33m,\u001b[0m \u001b[1;34m'GIF'\u001b[0m\u001b[1;33m,\u001b[0m \u001b[1;34m'auto'\u001b[0m\u001b[1;33m]\u001b[0m \u001b[1;33m=\u001b[0m \u001b[1;34m'auto'\u001b[0m\u001b[1;33m,\u001b[0m\u001b[1;33m\n",
      "\u001b[0m\u001b[1;33m)\u001b[0m \u001b[1;33m->\u001b[0m \u001b[1;34m'DeltaGenerator'\u001b[0m\u001b[1;33m\u001b[0m\u001b[1;33m\u001b[0m\u001b[0m\n",
      "\u001b[1;31mDocstring:\u001b[0m\n",
      "Display an image or list of images.\n",
      "\n",
      "Parameters\n",
      "----------\n",
      "image : numpy.ndarray, [numpy.ndarray], BytesIO, str, or [str]\n",
      "    Monochrome image of shape (w,h) or (w,h,1)\n",
      "    OR a color image of shape (w,h,3)\n",
      "    OR an RGBA image of shape (w,h,4)\n",
      "    OR a URL to fetch the image from\n",
      "    OR a path of a local image file\n",
      "    OR an SVG XML string like `<svg xmlns=...</svg>`\n",
      "    OR a list of one of the above, to display multiple images.\n",
      "caption : str or list of str\n",
      "    Image caption. If displaying multiple images, caption should be a\n",
      "    list of captions (one for each image).\n",
      "width : int or None\n",
      "    Image width. None means use the image width,\n",
      "    but do not exceed the width of the column.\n",
      "    Should be set for SVG images, as they have no default image width.\n",
      "use_column_width : \"auto\", \"always\", \"never\", or bool\n",
      "    If \"auto\", set the image's width to its natural size,\n",
      "    but do not exceed the width of the column.\n",
      "    If \"always\" or True, set the image's width to the column width.\n",
      "    If \"never\" or False, set the image's width to its natural size.\n",
      "    Note: if set, `use_column_width` takes precedence over the `width` parameter.\n",
      "clamp : bool\n",
      "    Clamp image pixel values to a valid range ([0-255] per channel).\n",
      "    This is only meaningful for byte array images; the parameter is\n",
      "    ignored for image URLs. If this is not set, and an image has an\n",
      "    out-of-range value, an error will be thrown.\n",
      "channels : \"RGB\" or \"BGR\"\n",
      "    If image is an nd.array, this parameter denotes the format used to\n",
      "    represent color information. Defaults to \"RGB\", meaning\n",
      "    `image[:, :, 0]` is the red channel, `image[:, :, 1]` is green, and\n",
      "    `image[:, :, 2]` is blue. For images coming from libraries like\n",
      "    OpenCV you should set this to \"BGR\", instead.\n",
      "output_format : \"JPEG\", \"PNG\", or \"auto\"\n",
      "    This parameter specifies the format to use when transferring the\n",
      "    image data. Photos should use the JPEG format for lossy compression\n",
      "    while diagrams should use the PNG format for lossless compression.\n",
      "    Defaults to \"auto\" which identifies the compression type based\n",
      "    on the type and format of the image argument.\n",
      "\n",
      "Example\n",
      "-------\n",
      ">>> import streamlit as st\n",
      ">>> from PIL import Image\n",
      ">>>\n",
      ">>> image = Image.open('sunrise.jpg')\n",
      ">>>\n",
      ">>> st.image(image, caption='Sunrise by the mountains')\n",
      "\n",
      ".. output::\n",
      "   https://doc-image.streamlit.app/\n",
      "   height: 710px\n",
      "\u001b[1;31mFile:\u001b[0m      c:\\users\\eltonjr_w\\appdata\\local\\programs\\python\\python311\\lib\\site-packages\\streamlit\\elements\\image.py\n",
      "\u001b[1;31mType:\u001b[0m      method"
     ]
    }
   ],
   "source": [
    "?st.image"
   ]
  },
  {
   "cell_type": "code",
   "execution_count": 234,
   "metadata": {},
   "outputs": [
    {
     "data": {
      "application/vnd.plotly.v1+json": {
       "config": {
        "plotlyServerURL": "https://plot.ly"
       },
       "data": [
        {
         "customdata": [
          [
           -23.7105274,
           -46.5043849,
           1,
           "Weekend",
           "Usual",
           "  Usual"
          ],
          [
           -23.7094514,
           -46.5587029,
           1,
           "Weekday",
           "Usual",
           "  Usual"
          ],
          [
           -23.6987495,
           -46.5055267,
           1,
           "Weekday",
           "Usual",
           "  Usual"
          ],
          [
           -23.6982078,
           -46.5063743,
           1,
           "Weekday",
           "Usual",
           "  Usual"
          ],
          [
           -23.6982078,
           -46.5063743,
           1,
           "Weekend",
           "Usual",
           "  Usual"
          ],
          [
           -23.6980284,
           -46.5047261,
           1,
           "Weekday",
           "Usual",
           "  Usual"
          ],
          [
           -23.6963845,
           -46.5078788,
           3,
           "Weekday",
           "Usual",
           "  Usual"
          ],
          [
           -23.6951714,
           -46.5009107,
           1,
           "Weekend",
           "Usual",
           "  Usual"
          ],
          [
           -23.6935179,
           -46.5053699,
           26,
           "Weekday",
           "Usual",
           "  Usual"
          ],
          [
           -23.6935179,
           -46.5053699,
           14,
           "Weekend",
           "Usual",
           "  Usual"
          ],
          [
           -23.6930394,
           -46.507777,
           1,
           "Weekday",
           "Usual",
           "  Usual"
          ],
          [
           -23.6929525,
           -46.5021726,
           2,
           "Weekday",
           "Usual",
           "  Usual"
          ],
          [
           -23.6928271,
           -46.5059241,
           1,
           "Weekday",
           "Usual",
           "  Usual"
          ],
          [
           -23.6926339,
           -46.502265,
           18,
           "Weekday",
           "Usual",
           "  Usual"
          ],
          [
           -23.6926339,
           -46.502265,
           7,
           "Weekend",
           "Usual",
           "  Usual"
          ],
          [
           -23.6923233,
           -46.5063227,
           1,
           "Weekday",
           "Usual",
           "  Usual"
          ],
          [
           -23.6857806,
           -46.5077717,
           1,
           "Weekday",
           "Usual",
           "  Usual"
          ],
          [
           -23.6857806,
           -46.5077717,
           1,
           "Weekend",
           "Usual",
           "  Usual"
          ],
          [
           -23.6833728,
           -46.5252651,
           1,
           "Weekend",
           "Usual",
           "  Usual"
          ],
          [
           -23.6686057,
           -46.5212743,
           1,
           "Weekend",
           "Usual",
           "  Usual"
          ],
          [
           -23.6678306,
           -46.5333943,
           1,
           "Weekday",
           "Usual",
           "  Usual"
          ],
          [
           -23.6638157,
           -46.5076277,
           4,
           "Weekday",
           "Usual",
           "  Usual"
          ],
          [
           -23.6638157,
           -46.5076277,
           2,
           "Weekend",
           "Usual",
           "  Usual"
          ],
          [
           -23.6583119,
           -46.5239002,
           1,
           "Weekday",
           "Usual",
           "  Usual"
          ],
          [
           -23.6487368,
           -46.5320388,
           3,
           "Weekday",
           "Usual",
           "  Usual"
          ],
          [
           -23.6461957,
           -46.6407825,
           1,
           "Weekday",
           "Usual",
           "  Usual"
          ],
          [
           -23.6393571,
           -46.4428051,
           1,
           "Weekend",
           "Usual",
           "  Usual"
          ],
          [
           -23.6391771,
           -46.4424934,
           2,
           "Weekend",
           "Usual",
           "  Usual"
          ],
          [
           -23.6391052,
           -46.5266081,
           1,
           "Weekend",
           "Usual",
           "  Usual"
          ],
          [
           -23.6388604,
           -46.5224085,
           1,
           "Weekday",
           "Usual",
           "  Usual"
          ],
          [
           -23.6370104,
           -46.4478249,
           1,
           "Weekday",
           "Usual",
           "  Usual"
          ],
          [
           -23.6355626,
           -46.5145283,
           1,
           "Weekday",
           "Usual",
           "  Usual"
          ],
          [
           -23.635519,
           -46.514838,
           1,
           "Weekday",
           "Usual",
           "  Usual"
          ],
          [
           -23.6351001,
           -46.443869,
           1,
           "Weekend",
           "Usual",
           "  Usual"
          ],
          [
           -23.6341676,
           -46.4445231,
           1,
           "Weekend",
           "Usual",
           "  Usual"
          ],
          [
           -23.6326368,
           -46.4478656,
           2,
           "Weekday",
           "Usual",
           "  Usual"
          ],
          [
           -23.6325,
           -46.5069444,
           33,
           "Weekday",
           "Usual",
           "  Usual"
          ],
          [
           -23.6325,
           -46.5069444,
           9,
           "Weekend",
           "Usual",
           "  Usual"
          ],
          [
           -23.6324982,
           -46.4426348,
           1,
           "Weekday",
           "Usual",
           "  Usual"
          ],
          [
           -23.6324569,
           -46.4481943,
           4,
           "Weekday",
           "Usual",
           "  Usual"
          ],
          [
           -23.6324569,
           -46.4481943,
           2,
           "Weekend",
           "Usual",
           "  Usual"
          ],
          [
           -23.6322371,
           -46.4473568,
           1,
           "Weekday",
           "Usual",
           "  Usual"
          ],
          [
           -23.6315349,
           -46.5039869,
           4,
           "Weekday",
           "Usual",
           "  Usual"
          ],
          [
           -23.63119,
           -46.4493737,
           1,
           "Weekend",
           "Usual",
           "  Usual"
          ],
          [
           -23.6308147,
           -46.5088321,
           1,
           "Weekday",
           "Usual",
           "  Usual"
          ],
          [
           -23.6301291,
           -46.4433717,
           1,
           "Weekday",
           "Usual",
           "  Usual"
          ],
          [
           -23.629384,
           -46.4620818,
           1,
           "Weekend",
           "Usual",
           "  Usual"
          ],
          [
           -23.6279327,
           -46.4460258,
           1,
           "Weekend",
           "Usual",
           "  Usual"
          ],
          [
           -23.627816,
           -46.5089929,
           27,
           "Weekday",
           "Usual",
           "  Usual"
          ],
          [
           -23.627816,
           -46.5089929,
           1,
           "Weekend",
           "Usual",
           "  Usual"
          ],
          [
           -23.627201,
           -46.6554642,
           1,
           "Weekday",
           "Usual",
           "  Usual"
          ],
          [
           -23.6268577,
           -46.5054893,
           1,
           "Weekend",
           "Usual",
           "  Usual"
          ],
          [
           -23.6267845,
           -46.5374278,
           1,
           "Weekend",
           "Usual",
           "  Usual"
          ],
          [
           -23.6265122,
           -46.4963324,
           2,
           "Weekend",
           "Usual",
           "  Usual"
          ],
          [
           -23.6255285,
           -46.6994442,
           1,
           "Weekday",
           "Usual",
           "  Usual"
          ],
          [
           -23.6254581,
           -46.6997208,
           1,
           "Weekday",
           "Usual",
           "  Usual"
          ],
          [
           -23.6254434,
           -46.6997934,
           1,
           "Weekday",
           "Usual",
           "  Usual"
          ],
          [
           -23.6253791,
           -46.7009735,
           2,
           "Weekday",
           "Usual",
           "  Usual"
          ],
          [
           -23.6253425,
           -46.699874,
           3,
           "Weekday",
           "Usual",
           "  Usual"
          ],
          [
           -23.625326,
           -46.6999851,
           4,
           "Weekday",
           "Usual",
           "  Usual"
          ],
          [
           -23.6251444,
           -46.5104521,
           1,
           "Weekday",
           "Usual",
           "  Usual"
          ],
          [
           -23.6251444,
           -46.5104521,
           1,
           "Weekend",
           "Usual",
           "  Usual"
          ],
          [
           -23.6247258,
           -46.69805,
           9,
           "Weekday",
           "Usual",
           "  Usual"
          ],
          [
           -23.6238781,
           -46.5113799,
           1,
           "Weekday",
           "Usual",
           "  Usual"
          ],
          [
           -23.6236571,
           -46.702392,
           7,
           "Weekday",
           "Usual",
           "  Usual"
          ],
          [
           -23.623493,
           -46.7004137,
           54,
           "Weekday",
           "Usual",
           "  Usual"
          ],
          [
           -23.6231169,
           -46.6986074,
           11,
           "Weekday",
           "Usual",
           "  Usual"
          ],
          [
           -23.622623,
           -46.7004364,
           6,
           "Weekday",
           "Usual",
           "  Usual"
          ],
          [
           -23.6215583,
           -46.6998137,
           2,
           "Weekday",
           "Usual",
           "  Usual"
          ],
          [
           -23.6131992,
           -46.5016159,
           1,
           "Weekday",
           "Usual",
           "  Usual"
          ],
          [
           -23.6110533,
           -46.4746936,
           1,
           "Weekday",
           "Usual",
           "  Usual"
          ],
          [
           -23.6101864,
           -46.5085791,
           1,
           "Weekend",
           "Usual",
           "  Usual"
          ],
          [
           -23.5838066,
           -46.6691188,
           1,
           "Weekday",
           "Usual",
           "  Usual"
          ],
          [
           -23.582457,
           -46.391517,
           1,
           "Weekend",
           "Usual",
           "  Usual"
          ],
          [
           -23.5774057,
           -46.4684768,
           1,
           "Weekend",
           "Usual",
           "  Usual"
          ],
          [
           -23.5729865,
           -46.4468138,
           1,
           "Weekday",
           "Usual",
           "  Usual"
          ],
          [
           -23.5729799,
           -46.447255,
           3,
           "Weekday",
           "Usual",
           "  Usual"
          ],
          [
           -23.5729425,
           -46.4463842,
           1,
           "Weekday",
           "Usual",
           "  Usual"
          ],
          [
           -23.5711877,
           -46.4463358,
           1,
           "Weekday",
           "Usual",
           "  Usual"
          ],
          [
           -23.5669854,
           -46.4748229,
           1,
           "Weekend",
           "Usual",
           "  Usual"
          ],
          [
           -23.5654978,
           -46.5127327,
           1,
           "Weekend",
           "Usual",
           "  Usual"
          ],
          [
           -23.5200964,
           -46.6784722,
           3,
           "Weekday",
           "Usual",
           "  Usual"
          ]
         ],
         "hovertemplate": "<b>%{hovertext}</b><br><br>Context=%{customdata[5]}<extra></extra>",
         "hovertext": [
          "Pizzaria Dom Manolo",
          "Ânima Clube Parque Condomínio",
          "SMARTBOOK - Celular e Notebook",
          "Supermercado Coop - Santo André (Vila Luzita)",
          "Supermercado Coop - Santo André (Vila Luzita)",
          "Snake Informática",
          "Adega do Jabá",
          "Rogério Pipas",
          "Supermercados Nagumo - Vila Luzita",
          "Supermercados Nagumo - Vila Luzita",
          "Jr Recuperadora Consertos de faróis , retrovisores",
          "Salão Studio Novo Stilo Unissex Especialista em Cabelo",
          "Ponto da Esfiha",
          "Padaria Fradin",
          "Padaria Fradin",
          "BANCO DO BRASIL - VILA LUZITA - Agência 4699",
          "Box training vila Pires",
          "Box training vila Pires",
          "Phoenix Estética Automotiva",
          "Park Antonio Fláquer Ipiranguinha",
          "Shopping ABC",
          "Atrium Shopping Santo André",
          "Atrium Shopping Santo André",
          "BIOVISTA Clínica Oftalmológica",
          "Grand Plaza Shopping",
          "Jabaquara",
          "Padaria Jamilton",
          "Cebolinha Delivery",
          "Sonda Supermercados - Santo André",
          "Coliseu do Pão",
          "Adega dos Amigos",
          "Ótica Royther",
          "Casas Lotéricas - Sorte Grande",
          "Padaria Nova Daf",
          "E.E. Professor Marcos Antônio Costa",
          "Congregação Cristã no Brasil - Jardim São Francisco",
          "Supermercados China",
          "Supermercados China",
          "Primatus Supermercado",
          "EMEI professor Manoel de Alvarenga Freire Junior",
          "EMEI professor Manoel de Alvarenga Freire Junior",
          "Pastel de Feira da Bia",
          "Restaurante Tia Anastácia Refeições",
          "Mini Padaria E Mercadinho Mayza",
          "Drogaria São Vicente",
          "DA PRAÇA Supermercado",
          "Ecoponto Cipoaba",
          "CEI Jardim Santo André",
          "Bakery Confectionery Flower Jute",
          "Bakery Confectionery Flower Jute",
          "São Paulo/Congonhas–Deputado Freitas Nobre Airport",
          "Residencial Alfama",
          "Arena Utinga - Futebol society",
          "Academy Evolution Fitness",
          "Uno Once - Parrilla",
          "Milló Restaurante Morumbi",
          "Barakah Morumbi",
          "Quattro Bar e Restaurante",
          "Restaurante Casinha",
          "Dom Chico",
          "Tudo em Carnes - Loja de Fábrica 1",
          "Tudo em Carnes - Loja de Fábrica 1",
          "Restaurante Aconchego",
          "Venit Residencial",
          "WT Morumbi",
          "Rochaverá Corporate Towers B",
          "Morumbi Shopping",
          "Rochavera Corporate Tower A",
          "Shopping Market Place",
          "Five Stars Burguer",
          "Assai São Mateus",
          "Supermercados Nagumo",
          "Seu Justino Itaim",
          "Av. Cachoeira Do Campo Grande, 59",
          "Carmo Park – Olavo Egydio Setúbal",
          "Escola de Futebol Portuguesa Itaquera",
          "Aquarius Fitness",
          "Habib's",
          "Burger King",
          "DIA Supermercado",
          "Chama Supermercados - Jd. Aricanduva",
          "Playball Pompeia"
         ],
         "lat": [
          -23.7105274,
          -23.7094514,
          -23.6987495,
          -23.6982078,
          -23.6982078,
          -23.6980284,
          -23.6963845,
          -23.6951714,
          -23.6935179,
          -23.6935179,
          -23.6930394,
          -23.6929525,
          -23.6928271,
          -23.6926339,
          -23.6926339,
          -23.6923233,
          -23.6857806,
          -23.6857806,
          -23.6833728,
          -23.6686057,
          -23.6678306,
          -23.6638157,
          -23.6638157,
          -23.6583119,
          -23.6487368,
          -23.6461957,
          -23.6393571,
          -23.6391771,
          -23.6391052,
          -23.6388604,
          -23.6370104,
          -23.6355626,
          -23.635519,
          -23.6351001,
          -23.6341676,
          -23.6326368,
          -23.6325,
          -23.6325,
          -23.6324982,
          -23.6324569,
          -23.6324569,
          -23.6322371,
          -23.6315349,
          -23.63119,
          -23.6308147,
          -23.6301291,
          -23.629384,
          -23.6279327,
          -23.627816,
          -23.627816,
          -23.627201,
          -23.6268577,
          -23.6267845,
          -23.6265122,
          -23.6255285,
          -23.6254581,
          -23.6254434,
          -23.6253791,
          -23.6253425,
          -23.625326,
          -23.6251444,
          -23.6251444,
          -23.6247258,
          -23.6238781,
          -23.6236571,
          -23.623493,
          -23.6231169,
          -23.622623,
          -23.6215583,
          -23.6131992,
          -23.6110533,
          -23.6101864,
          -23.5838066,
          -23.582457,
          -23.5774057,
          -23.5729865,
          -23.5729799,
          -23.5729425,
          -23.5711877,
          -23.5669854,
          -23.5654978,
          -23.5200964
         ],
         "legendgroup": "Usual",
         "lon": [
          -46.5043849,
          -46.5587029,
          -46.5055267,
          -46.5063743,
          -46.5063743,
          -46.5047261,
          -46.5078788,
          -46.5009107,
          -46.5053699,
          -46.5053699,
          -46.507777,
          -46.5021726,
          -46.5059241,
          -46.502265,
          -46.502265,
          -46.5063227,
          -46.5077717,
          -46.5077717,
          -46.5252651,
          -46.5212743,
          -46.5333943,
          -46.5076277,
          -46.5076277,
          -46.5239002,
          -46.5320388,
          -46.6407825,
          -46.4428051,
          -46.4424934,
          -46.5266081,
          -46.5224085,
          -46.4478249,
          -46.5145283,
          -46.514838,
          -46.443869,
          -46.4445231,
          -46.4478656,
          -46.5069444,
          -46.5069444,
          -46.4426348,
          -46.4481943,
          -46.4481943,
          -46.4473568,
          -46.5039869,
          -46.4493737,
          -46.5088321,
          -46.4433717,
          -46.4620818,
          -46.4460258,
          -46.5089929,
          -46.5089929,
          -46.6554642,
          -46.5054893,
          -46.5374278,
          -46.4963324,
          -46.6994442,
          -46.6997208,
          -46.6997934,
          -46.7009735,
          -46.699874,
          -46.6999851,
          -46.5104521,
          -46.5104521,
          -46.69805,
          -46.5113799,
          -46.702392,
          -46.7004137,
          -46.6986074,
          -46.7004364,
          -46.6998137,
          -46.5016159,
          -46.4746936,
          -46.5085791,
          -46.6691188,
          -46.391517,
          -46.4684768,
          -46.4468138,
          -46.447255,
          -46.4463842,
          -46.4463358,
          -46.4748229,
          -46.5127327,
          -46.6784722
         ],
         "marker": {
          "color": "blue",
          "size": [
           1,
           1,
           1,
           1,
           1,
           1,
           3,
           1,
           26,
           14,
           1,
           2,
           1,
           18,
           7,
           1,
           1,
           1,
           1,
           1,
           1,
           4,
           2,
           1,
           3,
           1,
           1,
           2,
           1,
           1,
           1,
           1,
           1,
           1,
           1,
           2,
           33,
           9,
           1,
           4,
           2,
           1,
           4,
           1,
           1,
           1,
           1,
           1,
           27,
           1,
           1,
           1,
           1,
           2,
           1,
           1,
           1,
           2,
           3,
           4,
           1,
           1,
           9,
           1,
           7,
           54,
           11,
           6,
           2,
           1,
           1,
           1,
           1,
           1,
           1,
           1,
           3,
           1,
           1,
           1,
           1,
           3
          ],
          "sizemode": "area",
          "sizeref": 0.35
         },
         "mode": "markers",
         "name": "Usual",
         "showlegend": true,
         "subplot": "mapbox",
         "type": "scattermapbox"
        },
        {
         "customdata": [
          [
           -23.6995942,
           -46.5087346,
           38,
           "Weekday",
           "Highlight",
           "  Keeping a gym routine (2 times a week), better life quality"
          ],
          [
           -23.6693925,
           -46.5204747,
           14,
           "Weekend",
           "Highlight",
           "  Keeping a football routine, playing every Saturday after a long time away from sports"
          ],
          [
           -23.644018,
           -46.541327,
           8,
           "Weekend",
           "Highlight",
           "  Keeping a football routine, playing every Saturday after a long time away from sports"
          ],
          [
           -23.6387333,
           -46.5235603,
           1,
           "Weekday",
           "Highlight",
           "  First time doing it (probably last, it hurts), but it was a fun experience"
          ],
          [
           -23.5448266,
           -46.5907217,
           4,
           "Weekday",
           "Highlight",
           "  I had surgery to reduce myopia (~3 degrees), I am very satisfied with the results"
          ]
         ],
         "hovertemplate": "<b>%{hovertext}</b><br><br>Context=%{customdata[5]}<extra></extra>",
         "hovertext": [
          "Dynamic Fitness Academy",
          "Corinthians Soccer Club of St. Andrew",
          "Zanon Ball",
          "Hospital do Medo Airsoft",
          "CEMA Hospital"
         ],
         "lat": [
          -23.6995942,
          -23.6693925,
          -23.644018,
          -23.6387333,
          -23.5448266
         ],
         "legendgroup": "Highlight",
         "lon": [
          -46.5087346,
          -46.5204747,
          -46.541327,
          -46.5235603,
          -46.5907217
         ],
         "marker": {
          "color": "green",
          "size": [
           38,
           14,
           8,
           1,
           4
          ],
          "sizemode": "area",
          "sizeref": 0.35
         },
         "mode": "markers",
         "name": "Highlight",
         "showlegend": true,
         "subplot": "mapbox",
         "type": "scattermapbox"
        },
        {
         "customdata": [
          [
           -23.6995199,
           -46.5087978,
           1,
           "Weekday",
           "Lowlight",
           "  Too many places called home for only a year!"
          ],
          [
           -23.6928367,
           -46.507419,
           4,
           "Weekday",
           "Lowlight",
           "  I bought a motorcycle this year, which has been really cool, but it has broken down 4 times"
          ],
          [
           -23.6914184,
           -46.5035623,
           2,
           "Weekday",
           "Lowlight",
           "  Too many places called home for only a year!"
          ],
          [
           -23.6914184,
           -46.5035623,
           2,
           "Weekend",
           "Lowlight",
           "  Too many places called home for only a year!"
          ],
          [
           -23.6913334,
           -46.503391,
           140,
           "Weekday",
           "Lowlight",
           "  Too many places called home for only a year!"
          ],
          [
           -23.6913334,
           -46.503391,
           56,
           "Weekend",
           "Lowlight",
           "  Too many places called home for only a year!"
          ],
          [
           -23.6869959,
           -46.504798,
           1,
           "Weekday",
           "Lowlight",
           "  Too many places called home for only a year!"
          ],
          [
           -23.6516332,
           -46.5121147,
           1,
           "Weekday",
           "Lowlight",
           "  I am, little by little, changing to a healthier diet, but there is still room to reduce this type of consumption"
          ],
          [
           -23.6393114,
           -46.44252,
           2,
           "Weekend",
           "Lowlight",
           "  Too many places called home for only a year!"
          ],
          [
           -23.6372798,
           -46.4456944,
           1,
           "Weekday",
           "Lowlight",
           "  Too many places called home for only a year!"
          ],
          [
           -23.6368869,
           -46.4452752,
           1,
           "Weekend",
           "Lowlight",
           "  Too many places called home for only a year!"
          ],
          [
           -23.6365992,
           -46.4473395,
           1,
           "Weekend",
           "Lowlight",
           "  Too many places called home for only a year!"
          ],
          [
           -23.6363991,
           -46.4475718,
           1,
           "Weekend",
           "Lowlight",
           "  Too many places called home for only a year!"
          ],
          [
           -23.6363985,
           -46.4475696,
           1,
           "Weekend",
           "Lowlight",
           "  Too many places called home for only a year!"
          ],
          [
           -23.6355617,
           -46.4926967,
           1,
           "Weekday",
           "Lowlight",
           "  Too many places called home for only a year!"
          ],
          [
           -23.6321482,
           -46.4389197,
           1,
           "Weekday",
           "Lowlight",
           "  Too many places called home for only a year!"
          ],
          [
           -23.6321134,
           -46.4448505,
           1,
           "Weekend",
           "Lowlight",
           "  Too many places called home for only a year!"
          ],
          [
           -23.6316101,
           -46.4499068,
           1,
           "Weekend",
           "Lowlight",
           "  Too many places called home for only a year!"
          ],
          [
           -23.6315668,
           -46.4501142,
           1,
           "Weekday",
           "Lowlight",
           "  Too many places called home for only a year!"
          ],
          [
           -23.631524,
           -46.504028,
           3,
           "Weekday",
           "Lowlight",
           "  Too many places called home for only a year!"
          ],
          [
           -23.6310243,
           -46.4495706,
           2,
           "Weekend",
           "Lowlight",
           "  Too many places called home for only a year!"
          ],
          [
           -23.6290451,
           -46.5092552,
           101,
           "Weekday",
           "Lowlight",
           "  Too many places called home for only a year!"
          ],
          [
           -23.6290451,
           -46.5092552,
           34,
           "Weekend",
           "Lowlight",
           "  Too many places called home for only a year!"
          ],
          [
           -23.6290446,
           -46.509258,
           10,
           "Weekday",
           "Lowlight",
           "  Too many places called home for only a year!"
          ],
          [
           -23.6290446,
           -46.509258,
           2,
           "Weekend",
           "Lowlight",
           "  Too many places called home for only a year!"
          ],
          [
           -23.6267307,
           -46.443058,
           1,
           "Weekend",
           "Lowlight",
           "  Too many places called home for only a year!"
          ],
          [
           -23.5865683,
           -46.3847355,
           3,
           "Weekend",
           "Lowlight",
           "  Too many places called home for only a year!"
          ],
          [
           -23.5841077,
           -46.4942932,
           1,
           "Weekday",
           "Lowlight",
           "  Too many places called home for only a year!"
          ],
          [
           -23.57681,
           -46.5231896,
           1,
           "Weekend",
           "Lowlight",
           "  Too many places called home for only a year!"
          ],
          [
           -23.5624808,
           -46.510788,
           2,
           "Weekday",
           "Lowlight",
           "  I am, little by little, changing to a healthier diet, but there is still room to reduce this type of consumption"
          ]
         ],
         "hovertemplate": "<b>%{hovertext}</b><br><br>Context=%{customdata[5]}<extra></extra>",
         "hovertext": [
          "Home",
          "Aljad Motorcycle Parts",
          "Home",
          "Home",
          "Home",
          "Home",
          "Home",
          "McDonald's",
          "Home",
          "Home",
          "Home",
          "Home",
          "Home",
          "Home",
          "Home",
          "Home",
          "Home",
          "Home",
          "Home",
          "Home",
          "Home",
          "Home",
          "Home",
          "Home",
          "Home",
          "Home",
          "Home",
          "Home",
          "Home",
          "McDonald's"
         ],
         "lat": [
          -23.6995199,
          -23.6928367,
          -23.6914184,
          -23.6914184,
          -23.6913334,
          -23.6913334,
          -23.6869959,
          -23.6516332,
          -23.6393114,
          -23.6372798,
          -23.6368869,
          -23.6365992,
          -23.6363991,
          -23.6363985,
          -23.6355617,
          -23.6321482,
          -23.6321134,
          -23.6316101,
          -23.6315668,
          -23.631524,
          -23.6310243,
          -23.6290451,
          -23.6290451,
          -23.6290446,
          -23.6290446,
          -23.6267307,
          -23.5865683,
          -23.5841077,
          -23.57681,
          -23.5624808
         ],
         "legendgroup": "Lowlight",
         "lon": [
          -46.5087978,
          -46.507419,
          -46.5035623,
          -46.5035623,
          -46.503391,
          -46.503391,
          -46.504798,
          -46.5121147,
          -46.44252,
          -46.4456944,
          -46.4452752,
          -46.4473395,
          -46.4475718,
          -46.4475696,
          -46.4926967,
          -46.4389197,
          -46.4448505,
          -46.4499068,
          -46.4501142,
          -46.504028,
          -46.4495706,
          -46.5092552,
          -46.5092552,
          -46.509258,
          -46.509258,
          -46.443058,
          -46.3847355,
          -46.4942932,
          -46.5231896,
          -46.510788
         ],
         "marker": {
          "color": "yellow",
          "size": [
           1,
           4,
           2,
           2,
           140,
           56,
           1,
           1,
           2,
           1,
           1,
           1,
           1,
           1,
           1,
           1,
           1,
           1,
           1,
           3,
           2,
           101,
           34,
           10,
           2,
           1,
           3,
           1,
           1,
           2
          ],
          "sizemode": "area",
          "sizeref": 0.35
         },
         "mode": "markers",
         "name": "Lowlight",
         "showlegend": true,
         "subplot": "mapbox",
         "type": "scattermapbox"
        }
       ],
       "layout": {
        "hoverlabel": {
         "bgcolor": "white",
         "font": {
          "family": "Inter",
          "size": 16
         }
        },
        "legend": {
         "itemsizing": "constant",
         "title": {
          "text": "Location Type"
         },
         "tracegroupgap": 0
        },
        "mapbox": {
         "center": {
          "lat": -23.639371757264946,
          "lon": -46.51661377435897
         },
         "domain": {
          "x": [
           0,
           1
          ],
          "y": [
           0,
           1
          ]
         },
         "style": "open-street-map",
         "zoom": 8
        },
        "margin": {
         "b": 0,
         "l": 0,
         "r": 0,
         "t": 0
        },
        "template": {
         "data": {
          "bar": [
           {
            "error_x": {
             "color": "#2a3f5f"
            },
            "error_y": {
             "color": "#2a3f5f"
            },
            "marker": {
             "line": {
              "color": "#E5ECF6",
              "width": 0.5
             },
             "pattern": {
              "fillmode": "overlay",
              "size": 10,
              "solidity": 0.2
             }
            },
            "type": "bar"
           }
          ],
          "barpolar": [
           {
            "marker": {
             "line": {
              "color": "#E5ECF6",
              "width": 0.5
             },
             "pattern": {
              "fillmode": "overlay",
              "size": 10,
              "solidity": 0.2
             }
            },
            "type": "barpolar"
           }
          ],
          "carpet": [
           {
            "aaxis": {
             "endlinecolor": "#2a3f5f",
             "gridcolor": "white",
             "linecolor": "white",
             "minorgridcolor": "white",
             "startlinecolor": "#2a3f5f"
            },
            "baxis": {
             "endlinecolor": "#2a3f5f",
             "gridcolor": "white",
             "linecolor": "white",
             "minorgridcolor": "white",
             "startlinecolor": "#2a3f5f"
            },
            "type": "carpet"
           }
          ],
          "choropleth": [
           {
            "colorbar": {
             "outlinewidth": 0,
             "ticks": ""
            },
            "type": "choropleth"
           }
          ],
          "contour": [
           {
            "colorbar": {
             "outlinewidth": 0,
             "ticks": ""
            },
            "colorscale": [
             [
              0,
              "#0d0887"
             ],
             [
              0.1111111111111111,
              "#46039f"
             ],
             [
              0.2222222222222222,
              "#7201a8"
             ],
             [
              0.3333333333333333,
              "#9c179e"
             ],
             [
              0.4444444444444444,
              "#bd3786"
             ],
             [
              0.5555555555555556,
              "#d8576b"
             ],
             [
              0.6666666666666666,
              "#ed7953"
             ],
             [
              0.7777777777777778,
              "#fb9f3a"
             ],
             [
              0.8888888888888888,
              "#fdca26"
             ],
             [
              1,
              "#f0f921"
             ]
            ],
            "type": "contour"
           }
          ],
          "contourcarpet": [
           {
            "colorbar": {
             "outlinewidth": 0,
             "ticks": ""
            },
            "type": "contourcarpet"
           }
          ],
          "heatmap": [
           {
            "colorbar": {
             "outlinewidth": 0,
             "ticks": ""
            },
            "colorscale": [
             [
              0,
              "#0d0887"
             ],
             [
              0.1111111111111111,
              "#46039f"
             ],
             [
              0.2222222222222222,
              "#7201a8"
             ],
             [
              0.3333333333333333,
              "#9c179e"
             ],
             [
              0.4444444444444444,
              "#bd3786"
             ],
             [
              0.5555555555555556,
              "#d8576b"
             ],
             [
              0.6666666666666666,
              "#ed7953"
             ],
             [
              0.7777777777777778,
              "#fb9f3a"
             ],
             [
              0.8888888888888888,
              "#fdca26"
             ],
             [
              1,
              "#f0f921"
             ]
            ],
            "type": "heatmap"
           }
          ],
          "heatmapgl": [
           {
            "colorbar": {
             "outlinewidth": 0,
             "ticks": ""
            },
            "colorscale": [
             [
              0,
              "#0d0887"
             ],
             [
              0.1111111111111111,
              "#46039f"
             ],
             [
              0.2222222222222222,
              "#7201a8"
             ],
             [
              0.3333333333333333,
              "#9c179e"
             ],
             [
              0.4444444444444444,
              "#bd3786"
             ],
             [
              0.5555555555555556,
              "#d8576b"
             ],
             [
              0.6666666666666666,
              "#ed7953"
             ],
             [
              0.7777777777777778,
              "#fb9f3a"
             ],
             [
              0.8888888888888888,
              "#fdca26"
             ],
             [
              1,
              "#f0f921"
             ]
            ],
            "type": "heatmapgl"
           }
          ],
          "histogram": [
           {
            "marker": {
             "pattern": {
              "fillmode": "overlay",
              "size": 10,
              "solidity": 0.2
             }
            },
            "type": "histogram"
           }
          ],
          "histogram2d": [
           {
            "colorbar": {
             "outlinewidth": 0,
             "ticks": ""
            },
            "colorscale": [
             [
              0,
              "#0d0887"
             ],
             [
              0.1111111111111111,
              "#46039f"
             ],
             [
              0.2222222222222222,
              "#7201a8"
             ],
             [
              0.3333333333333333,
              "#9c179e"
             ],
             [
              0.4444444444444444,
              "#bd3786"
             ],
             [
              0.5555555555555556,
              "#d8576b"
             ],
             [
              0.6666666666666666,
              "#ed7953"
             ],
             [
              0.7777777777777778,
              "#fb9f3a"
             ],
             [
              0.8888888888888888,
              "#fdca26"
             ],
             [
              1,
              "#f0f921"
             ]
            ],
            "type": "histogram2d"
           }
          ],
          "histogram2dcontour": [
           {
            "colorbar": {
             "outlinewidth": 0,
             "ticks": ""
            },
            "colorscale": [
             [
              0,
              "#0d0887"
             ],
             [
              0.1111111111111111,
              "#46039f"
             ],
             [
              0.2222222222222222,
              "#7201a8"
             ],
             [
              0.3333333333333333,
              "#9c179e"
             ],
             [
              0.4444444444444444,
              "#bd3786"
             ],
             [
              0.5555555555555556,
              "#d8576b"
             ],
             [
              0.6666666666666666,
              "#ed7953"
             ],
             [
              0.7777777777777778,
              "#fb9f3a"
             ],
             [
              0.8888888888888888,
              "#fdca26"
             ],
             [
              1,
              "#f0f921"
             ]
            ],
            "type": "histogram2dcontour"
           }
          ],
          "mesh3d": [
           {
            "colorbar": {
             "outlinewidth": 0,
             "ticks": ""
            },
            "type": "mesh3d"
           }
          ],
          "parcoords": [
           {
            "line": {
             "colorbar": {
              "outlinewidth": 0,
              "ticks": ""
             }
            },
            "type": "parcoords"
           }
          ],
          "pie": [
           {
            "automargin": true,
            "type": "pie"
           }
          ],
          "scatter": [
           {
            "fillpattern": {
             "fillmode": "overlay",
             "size": 10,
             "solidity": 0.2
            },
            "type": "scatter"
           }
          ],
          "scatter3d": [
           {
            "line": {
             "colorbar": {
              "outlinewidth": 0,
              "ticks": ""
             }
            },
            "marker": {
             "colorbar": {
              "outlinewidth": 0,
              "ticks": ""
             }
            },
            "type": "scatter3d"
           }
          ],
          "scattercarpet": [
           {
            "marker": {
             "colorbar": {
              "outlinewidth": 0,
              "ticks": ""
             }
            },
            "type": "scattercarpet"
           }
          ],
          "scattergeo": [
           {
            "marker": {
             "colorbar": {
              "outlinewidth": 0,
              "ticks": ""
             }
            },
            "type": "scattergeo"
           }
          ],
          "scattergl": [
           {
            "marker": {
             "colorbar": {
              "outlinewidth": 0,
              "ticks": ""
             }
            },
            "type": "scattergl"
           }
          ],
          "scattermapbox": [
           {
            "marker": {
             "colorbar": {
              "outlinewidth": 0,
              "ticks": ""
             }
            },
            "type": "scattermapbox"
           }
          ],
          "scatterpolar": [
           {
            "marker": {
             "colorbar": {
              "outlinewidth": 0,
              "ticks": ""
             }
            },
            "type": "scatterpolar"
           }
          ],
          "scatterpolargl": [
           {
            "marker": {
             "colorbar": {
              "outlinewidth": 0,
              "ticks": ""
             }
            },
            "type": "scatterpolargl"
           }
          ],
          "scatterternary": [
           {
            "marker": {
             "colorbar": {
              "outlinewidth": 0,
              "ticks": ""
             }
            },
            "type": "scatterternary"
           }
          ],
          "surface": [
           {
            "colorbar": {
             "outlinewidth": 0,
             "ticks": ""
            },
            "colorscale": [
             [
              0,
              "#0d0887"
             ],
             [
              0.1111111111111111,
              "#46039f"
             ],
             [
              0.2222222222222222,
              "#7201a8"
             ],
             [
              0.3333333333333333,
              "#9c179e"
             ],
             [
              0.4444444444444444,
              "#bd3786"
             ],
             [
              0.5555555555555556,
              "#d8576b"
             ],
             [
              0.6666666666666666,
              "#ed7953"
             ],
             [
              0.7777777777777778,
              "#fb9f3a"
             ],
             [
              0.8888888888888888,
              "#fdca26"
             ],
             [
              1,
              "#f0f921"
             ]
            ],
            "type": "surface"
           }
          ],
          "table": [
           {
            "cells": {
             "fill": {
              "color": "#EBF0F8"
             },
             "line": {
              "color": "white"
             }
            },
            "header": {
             "fill": {
              "color": "#C8D4E3"
             },
             "line": {
              "color": "white"
             }
            },
            "type": "table"
           }
          ]
         },
         "layout": {
          "annotationdefaults": {
           "arrowcolor": "#2a3f5f",
           "arrowhead": 0,
           "arrowwidth": 1
          },
          "autotypenumbers": "strict",
          "coloraxis": {
           "colorbar": {
            "outlinewidth": 0,
            "ticks": ""
           }
          },
          "colorscale": {
           "diverging": [
            [
             0,
             "#8e0152"
            ],
            [
             0.1,
             "#c51b7d"
            ],
            [
             0.2,
             "#de77ae"
            ],
            [
             0.3,
             "#f1b6da"
            ],
            [
             0.4,
             "#fde0ef"
            ],
            [
             0.5,
             "#f7f7f7"
            ],
            [
             0.6,
             "#e6f5d0"
            ],
            [
             0.7,
             "#b8e186"
            ],
            [
             0.8,
             "#7fbc41"
            ],
            [
             0.9,
             "#4d9221"
            ],
            [
             1,
             "#276419"
            ]
           ],
           "sequential": [
            [
             0,
             "#0d0887"
            ],
            [
             0.1111111111111111,
             "#46039f"
            ],
            [
             0.2222222222222222,
             "#7201a8"
            ],
            [
             0.3333333333333333,
             "#9c179e"
            ],
            [
             0.4444444444444444,
             "#bd3786"
            ],
            [
             0.5555555555555556,
             "#d8576b"
            ],
            [
             0.6666666666666666,
             "#ed7953"
            ],
            [
             0.7777777777777778,
             "#fb9f3a"
            ],
            [
             0.8888888888888888,
             "#fdca26"
            ],
            [
             1,
             "#f0f921"
            ]
           ],
           "sequentialminus": [
            [
             0,
             "#0d0887"
            ],
            [
             0.1111111111111111,
             "#46039f"
            ],
            [
             0.2222222222222222,
             "#7201a8"
            ],
            [
             0.3333333333333333,
             "#9c179e"
            ],
            [
             0.4444444444444444,
             "#bd3786"
            ],
            [
             0.5555555555555556,
             "#d8576b"
            ],
            [
             0.6666666666666666,
             "#ed7953"
            ],
            [
             0.7777777777777778,
             "#fb9f3a"
            ],
            [
             0.8888888888888888,
             "#fdca26"
            ],
            [
             1,
             "#f0f921"
            ]
           ]
          },
          "colorway": [
           "#636efa",
           "#EF553B",
           "#00cc96",
           "#ab63fa",
           "#FFA15A",
           "#19d3f3",
           "#FF6692",
           "#B6E880",
           "#FF97FF",
           "#FECB52"
          ],
          "font": {
           "color": "#2a3f5f"
          },
          "geo": {
           "bgcolor": "white",
           "lakecolor": "white",
           "landcolor": "#E5ECF6",
           "showlakes": true,
           "showland": true,
           "subunitcolor": "white"
          },
          "hoverlabel": {
           "align": "left"
          },
          "hovermode": "closest",
          "mapbox": {
           "style": "light"
          },
          "paper_bgcolor": "white",
          "plot_bgcolor": "#E5ECF6",
          "polar": {
           "angularaxis": {
            "gridcolor": "white",
            "linecolor": "white",
            "ticks": ""
           },
           "bgcolor": "#E5ECF6",
           "radialaxis": {
            "gridcolor": "white",
            "linecolor": "white",
            "ticks": ""
           }
          },
          "scene": {
           "xaxis": {
            "backgroundcolor": "#E5ECF6",
            "gridcolor": "white",
            "gridwidth": 2,
            "linecolor": "white",
            "showbackground": true,
            "ticks": "",
            "zerolinecolor": "white"
           },
           "yaxis": {
            "backgroundcolor": "#E5ECF6",
            "gridcolor": "white",
            "gridwidth": 2,
            "linecolor": "white",
            "showbackground": true,
            "ticks": "",
            "zerolinecolor": "white"
           },
           "zaxis": {
            "backgroundcolor": "#E5ECF6",
            "gridcolor": "white",
            "gridwidth": 2,
            "linecolor": "white",
            "showbackground": true,
            "ticks": "",
            "zerolinecolor": "white"
           }
          },
          "shapedefaults": {
           "line": {
            "color": "#2a3f5f"
           }
          },
          "ternary": {
           "aaxis": {
            "gridcolor": "white",
            "linecolor": "white",
            "ticks": ""
           },
           "baxis": {
            "gridcolor": "white",
            "linecolor": "white",
            "ticks": ""
           },
           "bgcolor": "#E5ECF6",
           "caxis": {
            "gridcolor": "white",
            "linecolor": "white",
            "ticks": ""
           }
          },
          "title": {
           "x": 0.05
          },
          "xaxis": {
           "automargin": true,
           "gridcolor": "white",
           "linecolor": "white",
           "ticks": "",
           "title": {
            "standoff": 15
           },
           "zerolinecolor": "white",
           "zerolinewidth": 2
          },
          "yaxis": {
           "automargin": true,
           "gridcolor": "white",
           "linecolor": "white",
           "ticks": "",
           "title": {
            "standoff": 15
           },
           "zerolinecolor": "white",
           "zerolinewidth": 2
          }
         }
        }
       }
      }
     },
     "metadata": {},
     "output_type": "display_data"
    }
   ],
   "source": [
    "import plotly.express as px\n",
    "import pandas as pd\n",
    "\n",
    "\n",
    "\n",
    "fig = px.scatter_mapbox(maps_geo_grouped, \n",
    "                        lat=\"lat\", \n",
    "                        lon=\"long\", \n",
    "                        hover_name=\"Place\", \n",
    "                        hover_data={\"lat\":False, \"long\":False, \"n\":False, \"Day Type\": False, \"Location Type\": True, \"Context\": True},\n",
    "                        color=\"Location Type\",\n",
    "                        color_discrete_sequence=['blue', 'green', 'yellow'],\n",
    "                        #color_continuous_scale=color_scale,\n",
    "                        size=\"n\",\n",
    "                        #zoom=8, \n",
    "                        #height=800,\n",
    "                        #width=800\n",
    "                        )\n",
    "\n",
    "fig.update_layout(mapbox_style=\"open-street-map\")\n",
    "fig.update_layout(margin={\"r\":0,\"t\":0,\"l\":0,\"b\":0},\n",
    "                  hoverlabel=dict( \n",
    "        bgcolor=\"white\",     # white background\n",
    "        font_size=16,        # label font size\n",
    "        font_family=\"Inter\")) # label font)\n",
    "#fig.update_traces(cluster=dict(enabled=True))\n",
    "\n",
    "fig.show()"
   ]
  },
  {
   "cell_type": "code",
   "execution_count": 238,
   "metadata": {},
   "outputs": [
    {
     "name": "stdout",
     "output_type": "stream",
     "text": [
      "\u001b[1;31mSignature:\u001b[0m \u001b[0mst\u001b[0m\u001b[1;33m.\u001b[0m\u001b[0mcolumns\u001b[0m\u001b[1;33m(\u001b[0m\u001b[0mspec\u001b[0m\u001b[1;33m:\u001b[0m \u001b[1;34m'SpecType'\u001b[0m\u001b[1;33m,\u001b[0m \u001b[1;33m*\u001b[0m\u001b[1;33m,\u001b[0m \u001b[0mgap\u001b[0m\u001b[1;33m:\u001b[0m \u001b[1;34m'Optional[str]'\u001b[0m \u001b[1;33m=\u001b[0m \u001b[1;34m'small'\u001b[0m\u001b[1;33m)\u001b[0m \u001b[1;33m->\u001b[0m \u001b[1;34m\"List['DeltaGenerator']\"\u001b[0m\u001b[1;33m\u001b[0m\u001b[1;33m\u001b[0m\u001b[0m\n",
      "\u001b[1;31mDocstring:\u001b[0m\n",
      "Insert containers laid out as side-by-side columns.\n",
      "\n",
      "Inserts a number of multi-element containers laid out side-by-side and\n",
      "returns a list of container objects.\n",
      "\n",
      "To add elements to the returned containers, you can use \"with\" notation\n",
      "(preferred) or just call methods directly on the returned object. See\n",
      "examples below.\n",
      "\n",
      "Columns can only be placed inside other columns up to one level of nesting.\n",
      "\n",
      ".. warning::\n",
      "    Columns cannot be placed inside other columns in the sidebar. This is only possible in the main area of the app.\n",
      "\n",
      "Parameters\n",
      "----------\n",
      "spec : int or Iterable of numbers\n",
      "    Controls the number and width of columns to insert. Can be one of:\n",
      "\n",
      "    * An integer that specifies the number of columns. All columns have equal\n",
      "      width in this case.\n",
      "    * An Iterable of numbers (int or float) that specify the relative width of\n",
      "      each column. E.g. ``[0.7, 0.3]`` creates two columns where the first\n",
      "      one takes up 70% of the available with and the second one takes up 30%.\n",
      "      Or ``[1, 2, 3]`` creates three columns where the second one is two times\n",
      "      the width of the first one, and the third one is three times that width.\n",
      "\n",
      "gap : \"small\", \"medium\", or \"large\"\n",
      "    The size of the gap between the columns. Defaults to \"small\".\n",
      "\n",
      "Returns\n",
      "-------\n",
      "list of containers\n",
      "    A list of container objects.\n",
      "\n",
      "Examples\n",
      "--------\n",
      "You can use `with` notation to insert any element into a column:\n",
      "\n",
      ">>> import streamlit as st\n",
      ">>>\n",
      ">>> col1, col2, col3 = st.columns(3)\n",
      ">>>\n",
      ">>> with col1:\n",
      "...    st.header(\"A cat\")\n",
      "...    st.image(\"https://static.streamlit.io/examples/cat.jpg\")\n",
      "...\n",
      ">>> with col2:\n",
      "...    st.header(\"A dog\")\n",
      "...    st.image(\"https://static.streamlit.io/examples/dog.jpg\")\n",
      "...\n",
      ">>> with col3:\n",
      "...    st.header(\"An owl\")\n",
      "...    st.image(\"https://static.streamlit.io/examples/owl.jpg\")\n",
      "\n",
      ".. output ::\n",
      "    https://doc-columns1.streamlit.app/\n",
      "    height: 620px\n",
      "\n",
      "Or you can just call methods directly in the returned objects:\n",
      "\n",
      ">>> import streamlit as st\n",
      ">>> import numpy as np\n",
      ">>>\n",
      ">>> col1, col2 = st.columns([3, 1])\n",
      ">>> data = np.random.randn(10, 1)\n",
      ">>>\n",
      ">>> col1.subheader(\"A wide column with a chart\")\n",
      ">>> col1.line_chart(data)\n",
      ">>>\n",
      ">>> col2.subheader(\"A narrow column with the data\")\n",
      ">>> col2.write(data)\n",
      "\n",
      ".. output ::\n",
      "    https://doc-columns2.streamlit.app/\n",
      "    height: 550px\n",
      "\u001b[1;31mFile:\u001b[0m      c:\\users\\eltonjr_w\\appdata\\local\\programs\\python\\python311\\lib\\site-packages\\streamlit\\elements\\layouts.py\n",
      "\u001b[1;31mType:\u001b[0m      method"
     ]
    }
   ],
   "source": [
    "?st.columns"
   ]
  },
  {
   "cell_type": "code",
   "execution_count": 192,
   "metadata": {},
   "outputs": [
    {
     "name": "stdout",
     "output_type": "stream",
     "text": [
      "['Pizzaria Dom Manolo' 'Ânima Clube Parque Condomínio'\n",
      " 'Dynamic Fitness Academy' 'Home' 'SMARTBOOK - Celular e Notebook'\n",
      " 'Supermercado Coop - Santo André (Vila Luzita)'\n",
      " 'Supermercado Coop - Santo André (Vila Luzita)' 'Snake Informática'\n",
      " 'Adega do Jabá' 'Rogério Pipas' 'Supermercados Nagumo - Vila Luzita'\n",
      " 'Supermercados Nagumo - Vila Luzita'\n",
      " 'Jr Recuperadora Consertos de faróis , retrovisores'\n",
      " 'Salão Studio Novo Stilo Unissex Especialista em Cabelo'\n",
      " 'Aljad Motorcycle Parts' 'Ponto da Esfiha' 'Padaria Fradin'\n",
      " 'Padaria Fradin' 'BANCO DO BRASIL - VILA LUZITA - Agência 4699' 'Home'\n",
      " 'Home' 'Home' 'Home' 'Home' 'Box training vila Pires'\n",
      " 'Box training vila Pires' 'Phoenix Estética Automotiva'\n",
      " 'Corinthians Soccer Club of St. Andrew'\n",
      " 'Park Antonio Fláquer Ipiranguinha' 'Shopping ABC'\n",
      " 'Atrium Shopping Santo André' 'Atrium Shopping Santo André'\n",
      " 'BIOVISTA Clínica Oftalmológica' \"McDonald's\" 'Grand Plaza Shopping'\n",
      " 'Jabaquara' 'Zanon Ball' 'Padaria Jamilton' 'Home' 'Cebolinha Delivery'\n",
      " 'Sonda Supermercados - Santo André' 'Coliseu do Pão'\n",
      " 'Hospital do Medo Airsoft' 'Home' 'Adega dos Amigos' 'Home' 'Home' 'Home'\n",
      " 'Home' 'Ótica Royther' 'Home' 'Casas Lotéricas - Sorte Grande'\n",
      " 'Padaria Nova Daf' 'E.E. Professor Marcos Antônio Costa'\n",
      " 'Congregação Cristã no Brasil - Jardim São Francisco'\n",
      " 'Supermercados China' 'Supermercados China' 'Primatus Supermercado'\n",
      " 'EMEI professor Manoel de Alvarenga Freire Junior'\n",
      " 'EMEI professor Manoel de Alvarenga Freire Junior'\n",
      " 'Pastel de Feira da Bia' 'Home' 'Home' 'Home' 'Home'\n",
      " 'Restaurante Tia Anastácia Refeições' 'Home'\n",
      " 'Mini Padaria E Mercadinho Mayza' 'Home' 'Drogaria São Vicente'\n",
      " 'DA PRAÇA Supermercado' 'Ecoponto Cipoaba' 'Home' 'Home' 'Home' 'Home'\n",
      " 'CEI Jardim Santo André' 'Bakery Confectionery Flower Jute'\n",
      " 'Bakery Confectionery Flower Jute'\n",
      " 'São Paulo/Congonhas–Deputado Freitas Nobre Airport' 'Residencial Alfama'\n",
      " 'Arena Utinga - Futebol society' 'Home' 'Academy Evolution Fitness'\n",
      " 'Uno Once - Parrilla' 'Milló Restaurante Morumbi' 'Barakah Morumbi'\n",
      " 'Quattro Bar e Restaurante' 'Restaurante Casinha' 'Dom Chico'\n",
      " 'Tudo em Carnes - Loja de Fábrica 1' 'Tudo em Carnes - Loja de Fábrica 1'\n",
      " 'Restaurante Aconchego' 'Venit Residencial' 'WT Morumbi'\n",
      " 'Rochaverá Corporate Towers B' 'Morumbi Shopping'\n",
      " 'Rochavera Corporate Tower A' 'Shopping Market Place'\n",
      " 'Five Stars Burguer' 'Assai São Mateus' 'Supermercados Nagumo' 'Home'\n",
      " 'Home' 'Seu Justino Itaim' 'Av. Cachoeira Do Campo Grande, 59'\n",
      " 'Carmo Park – Olavo Egydio Setúbal' 'Home'\n",
      " 'Escola de Futebol Portuguesa Itaquera' 'Aquarius Fitness' \"Habib's\"\n",
      " 'Burger King' 'DIA Supermercado' 'Chama Supermercados - Jd. Aricanduva'\n",
      " \"McDonald's\" 'CEMA Hospital' 'Playball Pompeia']\n"
     ]
    }
   ],
   "source": [
    "print(maps_geo_grouped.Place.values)\n",
    "\n",
    "# Highlight\n",
    "#['CEMA Hospital', 'Hospital do Medo Airsoft', 'Corinthians Soccer Club of St. Andrew', 'Dynamic Fitness Academy]\n",
    "\n",
    "# Lowlight\n",
    "[\"Home\", \"McDonald's\", \"Aljad Motorcycle Parts\"]"
   ]
  },
  {
   "cell_type": "code",
   "execution_count": 89,
   "metadata": {},
   "outputs": [
    {
     "data": {
      "text/plain": [
       "2"
      ]
     },
     "execution_count": 89,
     "metadata": {},
     "output_type": "execute_result"
    }
   ],
   "source": [
    "d['name']"
   ]
  }
 ],
 "metadata": {
  "kernelspec": {
   "display_name": "Python 3",
   "language": "python",
   "name": "python3"
  },
  "language_info": {
   "codemirror_mode": {
    "name": "ipython",
    "version": 3
   },
   "file_extension": ".py",
   "mimetype": "text/x-python",
   "name": "python",
   "nbconvert_exporter": "python",
   "pygments_lexer": "ipython3",
   "version": "3.11.5"
  }
 },
 "nbformat": 4,
 "nbformat_minor": 2
}
